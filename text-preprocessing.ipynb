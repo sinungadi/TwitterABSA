{
 "cells": [
  {
   "cell_type": "code",
   "execution_count": 1,
   "metadata": {},
   "outputs": [],
   "source": [
    "import pandas as pd\n",
    "import numpy as np\n",
    "import preprocessor as p\n",
    "import re\n",
    "import string\n",
    "import itertools\n",
    "import requests\n",
    "\n",
    "import nltk\n",
    "#nltk.download()\n",
    "from nltk.tokenize import word_tokenize\n",
    "from Sastrawi.StopWordRemover.StopWordRemoverFactory import StopWordRemoverFactory\n",
    "\n",
    "from tqdm.notebook import tqdm\n",
    "tqdm.pandas()\n",
    "\n",
    "import warnings\n",
    "warnings.filterwarnings('ignore')\n",
    "\n",
    "pd.set_option('display.max_colwidth', None)"
   ]
  },
  {
   "cell_type": "code",
   "execution_count": 2,
   "metadata": {},
   "outputs": [
    {
     "data": {
      "text/plain": [
       "(108525, 6)"
      ]
     },
     "execution_count": 2,
     "metadata": {},
     "output_type": "execute_result"
    }
   ],
   "source": [
    "raw = pd.read_csv('data.csv')\n",
    "raw.shape"
   ]
  },
  {
   "cell_type": "code",
   "execution_count": 4,
   "metadata": {},
   "outputs": [
    {
     "data": {
      "text/html": [
       "<div>\n",
       "<style scoped>\n",
       "    .dataframe tbody tr th:only-of-type {\n",
       "        vertical-align: middle;\n",
       "    }\n",
       "\n",
       "    .dataframe tbody tr th {\n",
       "        vertical-align: top;\n",
       "    }\n",
       "\n",
       "    .dataframe thead th {\n",
       "        text-align: right;\n",
       "    }\n",
       "</style>\n",
       "<table border=\"1\" class=\"dataframe\">\n",
       "  <thead>\n",
       "    <tr style=\"text-align: right;\">\n",
       "      <th></th>\n",
       "      <th>tweet_id</th>\n",
       "      <th>created_at</th>\n",
       "      <th>author_id</th>\n",
       "      <th>username</th>\n",
       "      <th>text</th>\n",
       "      <th>reference_type</th>\n",
       "    </tr>\n",
       "  </thead>\n",
       "  <tbody>\n",
       "    <tr>\n",
       "      <th>0</th>\n",
       "      <td>1620209968682254336</td>\n",
       "      <td>2023-01-30T23:58:53.000Z</td>\n",
       "      <td>185508421</td>\n",
       "      <td>rachmanfahadi</td>\n",
       "      <td>RT @NephiLaxmus: Saya\\n\\n- Pabrik motor listrik ini punya?\\n+ Saya\\n- Ojek online ini?\\n+ Saya\\n- Pembangkit listriknya?\\n+ Saya\\n- Pemasok batu ba…</td>\n",
       "      <td>['retweeted']</td>\n",
       "    </tr>\n",
       "    <tr>\n",
       "      <th>1</th>\n",
       "      <td>1620209586115604480</td>\n",
       "      <td>2023-01-30T23:57:22.000Z</td>\n",
       "      <td>458497906</td>\n",
       "      <td>66fathur</td>\n",
       "      <td>RT @NephiLaxmus: Saya\\n\\n- Pabrik motor listrik ini punya?\\n+ Saya\\n- Ojek online ini?\\n+ Saya\\n- Pembangkit listriknya?\\n+ Saya\\n- Pemasok batu ba…</td>\n",
       "      <td>['retweeted']</td>\n",
       "    </tr>\n",
       "    <tr>\n",
       "      <th>2</th>\n",
       "      <td>1620209295337078786</td>\n",
       "      <td>2023-01-30T23:56:12.000Z</td>\n",
       "      <td>954981728350695425</td>\n",
       "      <td>erusdhiana0118</td>\n",
       "      <td>RT @giginpraginanto: Dia yang memproduksi, dia juga yang kasih subsidi. Dia pasti makin kaya raya dan berkuasa kalau program 3 periode berj…</td>\n",
       "      <td>['retweeted']</td>\n",
       "    </tr>\n",
       "    <tr>\n",
       "      <th>3</th>\n",
       "      <td>1620209006261460993</td>\n",
       "      <td>2023-01-30T23:55:03.000Z</td>\n",
       "      <td>1148010397951094784</td>\n",
       "      <td>AloelAsheen</td>\n",
       "      <td>RT @giginpraginanto: Dia yang memproduksi, dia juga yang kasih subsidi. Dia pasti makin kaya raya dan berkuasa kalau program 3 periode berj…</td>\n",
       "      <td>['retweeted']</td>\n",
       "    </tr>\n",
       "    <tr>\n",
       "      <th>4</th>\n",
       "      <td>1620208586558435330</td>\n",
       "      <td>2023-01-30T23:53:23.000Z</td>\n",
       "      <td>1379546070783430661</td>\n",
       "      <td>DM_N4BYL</td>\n",
       "      <td>RT @Nailazaara__: Erick Thohir melihat perkembangan renovasi ruang klinik dlm pemenuhan pelayanan atas pentingnya kesehatan pegawai.\\n\"Ke de…</td>\n",
       "      <td>['retweeted']</td>\n",
       "    </tr>\n",
       "  </tbody>\n",
       "</table>\n",
       "</div>"
      ],
      "text/plain": [
       "              tweet_id                created_at            author_id  \\\n",
       "0  1620209968682254336  2023-01-30T23:58:53.000Z            185508421   \n",
       "1  1620209586115604480  2023-01-30T23:57:22.000Z            458497906   \n",
       "2  1620209295337078786  2023-01-30T23:56:12.000Z   954981728350695425   \n",
       "3  1620209006261460993  2023-01-30T23:55:03.000Z  1148010397951094784   \n",
       "4  1620208586558435330  2023-01-30T23:53:23.000Z  1379546070783430661   \n",
       "\n",
       "         username  \\\n",
       "0   rachmanfahadi   \n",
       "1        66fathur   \n",
       "2  erusdhiana0118   \n",
       "3     AloelAsheen   \n",
       "4        DM_N4BYL   \n",
       "\n",
       "                                                                                                                                                   text  \\\n",
       "0  RT @NephiLaxmus: Saya\\n\\n- Pabrik motor listrik ini punya?\\n+ Saya\\n- Ojek online ini?\\n+ Saya\\n- Pembangkit listriknya?\\n+ Saya\\n- Pemasok batu ba…   \n",
       "1  RT @NephiLaxmus: Saya\\n\\n- Pabrik motor listrik ini punya?\\n+ Saya\\n- Ojek online ini?\\n+ Saya\\n- Pembangkit listriknya?\\n+ Saya\\n- Pemasok batu ba…   \n",
       "2          RT @giginpraginanto: Dia yang memproduksi, dia juga yang kasih subsidi. Dia pasti makin kaya raya dan berkuasa kalau program 3 periode berj…   \n",
       "3          RT @giginpraginanto: Dia yang memproduksi, dia juga yang kasih subsidi. Dia pasti makin kaya raya dan berkuasa kalau program 3 periode berj…   \n",
       "4         RT @Nailazaara__: Erick Thohir melihat perkembangan renovasi ruang klinik dlm pemenuhan pelayanan atas pentingnya kesehatan pegawai.\\n\"Ke de…   \n",
       "\n",
       "  reference_type  \n",
       "0  ['retweeted']  \n",
       "1  ['retweeted']  \n",
       "2  ['retweeted']  \n",
       "3  ['retweeted']  \n",
       "4  ['retweeted']  "
      ]
     },
     "execution_count": 4,
     "metadata": {},
     "output_type": "execute_result"
    }
   ],
   "source": [
    "raw.head()"
   ]
  },
  {
   "cell_type": "code",
   "execution_count": 5,
   "metadata": {},
   "outputs": [
    {
     "name": "stdout",
     "output_type": "stream",
     "text": [
      "<class 'pandas.core.frame.DataFrame'>\n",
      "RangeIndex: 108525 entries, 0 to 108524\n",
      "Data columns (total 6 columns):\n",
      " #   Column          Non-Null Count   Dtype \n",
      "---  ------          --------------   ----- \n",
      " 0   tweet_id        108525 non-null  int64 \n",
      " 1   created_at      108525 non-null  object\n",
      " 2   author_id       108525 non-null  int64 \n",
      " 3   username        108525 non-null  object\n",
      " 4   text            108525 non-null  object\n",
      " 5   reference_type  83335 non-null   object\n",
      "dtypes: int64(2), object(4)\n",
      "memory usage: 5.0+ MB\n"
     ]
    }
   ],
   "source": [
    "raw.info()"
   ]
  },
  {
   "attachments": {},
   "cell_type": "markdown",
   "metadata": {},
   "source": [
    "# 1. Data Preprocessing\n",
    "---"
   ]
  },
  {
   "attachments": {},
   "cell_type": "markdown",
   "metadata": {},
   "source": [
    "## 1.1 Filter Tweets\n",
    "\n",
    "Drop retweeted Tweets to diminish duplication"
   ]
  },
  {
   "cell_type": "code",
   "execution_count": 6,
   "metadata": {},
   "outputs": [
    {
     "data": {
      "text/plain": [
       "['retweeted']               66528\n",
       "['replied_to']              14489\n",
       "['quoted']                   2230\n",
       "['quoted', 'replied_to']       88\n",
       "Name: reference_type, dtype: int64"
      ]
     },
     "execution_count": 6,
     "metadata": {},
     "output_type": "execute_result"
    }
   ],
   "source": [
    "raw['reference_type'].value_counts()"
   ]
  },
  {
   "attachments": {},
   "cell_type": "markdown",
   "metadata": {},
   "source": [
    "We will drop 66528 retweeted Tweets"
   ]
  },
  {
   "cell_type": "code",
   "execution_count": 7,
   "metadata": {},
   "outputs": [],
   "source": [
    "df = raw[raw['reference_type'] != \"['retweeted']\"].reset_index(drop=True)"
   ]
  },
  {
   "cell_type": "code",
   "execution_count": 8,
   "metadata": {},
   "outputs": [
    {
     "data": {
      "text/plain": [
       "(41997, 6)"
      ]
     },
     "execution_count": 8,
     "metadata": {},
     "output_type": "execute_result"
    }
   ],
   "source": [
    "df.shape"
   ]
  },
  {
   "attachments": {},
   "cell_type": "markdown",
   "metadata": {},
   "source": [
    "## 1.2 Text Preprocessing"
   ]
  },
  {
   "cell_type": "code",
   "execution_count": 30,
   "metadata": {},
   "outputs": [],
   "source": [
    "# Normalisasi Kata\n",
    "url1 = (r'https://raw.githubusercontent.com/ksnugroho/klasifikasi-spam-sms/master/data/key_norm.csv')\n",
    "url2 = (r'https://raw.githubusercontent.com/nasalsabila/kamus-alay/master/colloquial-indonesian-lexicon.csv')\n",
    "url3 = (r'https://raw.githubusercontent.com/okkyibrohim/id-abusive-language-detection/master/kamusalay.csv')\n",
    "url4 = (r'https://raw.githubusercontent.com/louisowen6/NLP_bahasa_resources/master/combined_slang_words.txt')\n",
    "r = requests.get(url4)\n",
    "\n",
    "kamus_normalisasi = pd.read_csv(url1)\n",
    "kamus_alay1 = pd.read_csv(url2)\n",
    "kamus_alay2 = pd.read_csv(url3, names=['slang','formal'])\n",
    "kamus_slang = pd.json_normalize(r.json()).transpose().reset_index()\n",
    "kamus_slang.columns = ['slang','formal']\n",
    "\n",
    "def normalisasi(text):\n",
    "  text = ' '.join([kamus_normalisasi[kamus_normalisasi['singkat'] == word]['hasil'].values[0] if (kamus_normalisasi['singkat'] == word).any() else word for word in text.split()])\n",
    "  text = ' '.join([kamus_alay1[kamus_alay1['slang'] == word]['formal'].values[0] if (kamus_alay1['slang'] == word).any() else word for word in text.split()])\n",
    "  text = ' '.join([kamus_alay2[kamus_alay2['slang'] == word]['formal'].values[0] if (kamus_alay2['slang'] == word).any() else word for word in text.split()])\n",
    "  text = ' '.join([kamus_slang[kamus_slang['slang'] == word]['formal'].values[0] if (kamus_slang['slang'] == word).any() else word for word in text.split()])\n",
    "  return text\n",
    "\n",
    "def normalisasi_slang(text):\n",
    "  text = ' '.join([kamus_alay1[kamus_alay1['slang'] == word]['formal'].values[0] if (kamus_alay1['slang'] == word).any() else word for word in text.split()])\n",
    "  text = ' '.join([kamus_alay2[kamus_alay2['slang'] == word]['formal'].values[0] if (kamus_alay2['slang'] == word).any() else word for word in text.split()])\n",
    "  text = ' '.join([kamus_slang[kamus_slang['slang'] == word]['formal'].values[0] if (kamus_slang['slang'] == word).any() else word for word in text.split()])\n",
    "  return text"
   ]
  },
  {
   "cell_type": "code",
   "execution_count": 40,
   "metadata": {},
   "outputs": [],
   "source": [
    "# Pipeline\n",
    "def preprocessing(text):\n",
    "  text = text.replace('\\n', ' ').replace('\\r', '') # replace new line into space\n",
    "  text = text.replace('&amp;', ' ')\n",
    "  p.set_options(p.OPT.URL, p.OPT.MENTION, p.OPT.HASHTAG, p.OPT.RESERVED)\n",
    "  text = p.clean(text)\n",
    "  text = normalisasi(text)\n",
    "  #text = normalisasi_slang(text)\n",
    "  return text"
   ]
  },
  {
   "cell_type": "code",
   "execution_count": 41,
   "metadata": {},
   "outputs": [
    {
     "data": {
      "application/vnd.jupyter.widget-view+json": {
       "model_id": "8f8451c0a2ff4054926e3a572cfc4fc7",
       "version_major": 2,
       "version_minor": 0
      },
      "text/plain": [
       "  0%|          | 0/41997 [00:00<?, ?it/s]"
      ]
     },
     "metadata": {},
     "output_type": "display_data"
    }
   ],
   "source": [
    "# Start preprocessing\n",
    "df['text_cleaned'] = df['text'].progress_apply(preprocessing)"
   ]
  },
  {
   "cell_type": "code",
   "execution_count": 43,
   "metadata": {},
   "outputs": [
    {
     "data": {
      "text/html": [
       "<div>\n",
       "<style scoped>\n",
       "    .dataframe tbody tr th:only-of-type {\n",
       "        vertical-align: middle;\n",
       "    }\n",
       "\n",
       "    .dataframe tbody tr th {\n",
       "        vertical-align: top;\n",
       "    }\n",
       "\n",
       "    .dataframe thead th {\n",
       "        text-align: right;\n",
       "    }\n",
       "</style>\n",
       "<table border=\"1\" class=\"dataframe\">\n",
       "  <thead>\n",
       "    <tr style=\"text-align: right;\">\n",
       "      <th></th>\n",
       "      <th>text</th>\n",
       "      <th>text_cleaned</th>\n",
       "    </tr>\n",
       "  </thead>\n",
       "  <tbody>\n",
       "    <tr>\n",
       "      <th>36019</th>\n",
       "      <td>Semoga ada lagi perusahaan lain yang mulai masuk di daur ulang maupun repurposing baterai lithium dari kendaraan listrik. https://t.co/B4Hbt239L8</td>\n",
       "      <td>Semoga ada lagi perusahaan lain yang mulai masuk di daur ulang maupun repurposing baterai lithium dari kendaraan listrik.</td>\n",
       "    </tr>\n",
       "    <tr>\n",
       "      <th>14762</th>\n",
       "      <td>@dawiguna @detikcom Jangan lupa mudahnya kepemilikan kendaraan (baik KR 2 maupun KR 4) dengan kredit jg menjadi pemicunya jika ditarik panjang ke belakang.\\nBaru2 ini jg ditambah dengan munculnya kendaraan listrik dan \"dispesialkan\" dr ganjil genap serta subsidi kepemilikan KR listrik.</td>\n",
       "      <td>Jangan lupa mudahnya kepemilikan kendaraan (baik KR 2 maupun KR 4) dengan kredit juga menjadi pemicunya jika ditarik panjang ke belakang. Baru2 ini juga ditambah dengan munculnya kendaraan listrik dan \"dispesialkan\" dari ganjil genap serta subsidi kepemilikan KR listrik.</td>\n",
       "    </tr>\n",
       "    <tr>\n",
       "      <th>6457</th>\n",
       "      <td>@alisyarief Belajar Ilmu kedokteran masih mahal. \\n\\nDaripada subsidi mobil listrik, lebih baik subsidi biaya kuliah kedokteran.</td>\n",
       "      <td>Belajar Ilmu kedokteran masih mahal. Daripada subsidi mobil listrik, lebih baik subsidi biaya kuliah kedokteran.</td>\n",
       "    </tr>\n",
       "    <tr>\n",
       "      <th>19756</th>\n",
       "      <td>Selain ramah lingkungan juga motor listrik gaperlu ganti ganti oli, biaya perawatan yang jauh relatif lebih murah #PakaiMolis #PLNEmobilizeYou https://t.co/VVGHQkFq4j</td>\n",
       "      <td>Selain ramah lingkungan juga motor listrik tidak perlu ganti ganti oli, biaya perawatan yang jauh relatif lebih murah</td>\n",
       "    </tr>\n",
       "    <tr>\n",
       "      <th>18182</th>\n",
       "      <td>Kebijakan subsidi kendaraan listrik dijadwalkan mulai berlaku per hari ini 20 Maret 2023. Motor dan mobil listrik apa saja yang dapat subsidi? https://t.co/UgSjtKgJin</td>\n",
       "      <td>Kebijakan subsidi kendaraan listrik dijadwalkan mulai berlaku per hari ini 20 Maret 2023. Motor dan mobil listrik apa saja yang dapat subsidi?</td>\n",
       "    </tr>\n",
       "    <tr>\n",
       "      <th>11966</th>\n",
       "      <td>@msaid_didu Dudu sdh ga sehat cara berpikir nya. Dgn kendaraan listrik otomatis pakaian bbm turun Dan subsidi jg turun. Dan subsidi pembelian hanya di berikan 1x saja saat beli. Subsidi bbm di berikan seumur hidup kendaraan selama masih beli bbm. Otak dipake du! Jgn benci aja di pelihara!</td>\n",
       "      <td>Dudu sudah tidak sehat cara berpikir nya. Dgn kendaraan listrik otomatis pakaian bbm turun Dan subsidi juga turun. Dan subsidi pembelian hanya di berikan 1x saja saat beli. Subsidi bbm di berikan seumur hidup kendaraan selama masih beli bbm. Otak dipakai du! Jgn benci saja di pelihara!</td>\n",
       "    </tr>\n",
       "    <tr>\n",
       "      <th>39919</th>\n",
       "      <td>Hai Electrizen, fakta menarik dari kendaraan listrik ini ternyata mampu menghemat biaya operasional hingga 75 persen loh dibandingkan dengan kendaraan konvensional.\\n\\nTahukah kamu, beralih ke motor dan mobil listrik punya keuntungan berlipat dari sisi ekonomi. https://t.co/tAsIMoYIXB</td>\n",
       "      <td>Hai Electrizen, fakta menarik dari kendaraan listrik ini ternyata mampu menghemat biaya operasional hingga 75 persen loh dibandingkan dengan kendaraan konvensional. Tahukah kamu, beralih ke motor dan mobil listrik punya keuntungan berlipat dari sisi ekonomi.</td>\n",
       "    </tr>\n",
       "    <tr>\n",
       "      <th>196</th>\n",
       "      <td>@KompasTV Subsidi motor listrik ini tidak tepat. Lebih berbau pertimbangan bisnis ketimbang upaya mengurangi polusi udara.\\nApakah infrastruktur dan sarana pendukung utk kendaraan listrik sudah ada dan memadai? Ingat, harus ada sarana pengisian listrik batrei motor listrik yg tersebar luas</td>\n",
       "      <td>Subsidi motor listrik ini tidak tepat. Lebih berbau pertimbangan bisnis ketimbang upaya mengurangi polusi udara. Apakah infrastruktur dan sarana pendukung untuk kendaraan listrik sudah ada dan memadai? Ingat, harus ada sarana pengisian listrik batrei motor listrik yang tersebar luas</td>\n",
       "    </tr>\n",
       "    <tr>\n",
       "      <th>5551</th>\n",
       "      <td>Elektrifikasi kendaraan mampu menurunkan emisi namun perlu menyasar sektor transportasi publik, dan perlu memperhatikan dampak lingkungan dari pengerukkan sumber daya alam besar-besaran untuk menghasilkan bahan baku mobil listrik\\nhttps://t.co/Pyxpvprfqf oleh @bumibungah</td>\n",
       "      <td>Elektrifikasi kendaraan mampu menurunkan emisi namun perlu menyasar sektor transportasi publik, dan perlu memperhatikan dampak lingkungan dari pengerukkan sumber daya alam besar-besaran untuk menghasilkan bahan baku mobil listrik oleh</td>\n",
       "    </tr>\n",
       "    <tr>\n",
       "      <th>10791</th>\n",
       "      <td>Dengan pembangunan SPKLU ini merupakan upaya PLN dalam mendukung pengisian daya kendaraan listrik tersebar ke seluruh Indonesia. \\n#PLNEMobilizeYou https://t.co/jvM98s3vUz</td>\n",
       "      <td>Dengan pembangunan SPKLU ini merupakan upaya PLN dalam mendukung pengisian daya kendaraan listrik tersebar ke seluruh Indonesia.</td>\n",
       "    </tr>\n",
       "  </tbody>\n",
       "</table>\n",
       "</div>"
      ],
      "text/plain": [
       "                                                                                                                                                                                                                                                                                                     text  \\\n",
       "36019                                                                                                                                                   Semoga ada lagi perusahaan lain yang mulai masuk di daur ulang maupun repurposing baterai lithium dari kendaraan listrik. https://t.co/B4Hbt239L8   \n",
       "14762      @dawiguna @detikcom Jangan lupa mudahnya kepemilikan kendaraan (baik KR 2 maupun KR 4) dengan kredit jg menjadi pemicunya jika ditarik panjang ke belakang.\\nBaru2 ini jg ditambah dengan munculnya kendaraan listrik dan \"dispesialkan\" dr ganjil genap serta subsidi kepemilikan KR listrik.   \n",
       "6457                                                                                                                                                                     @alisyarief Belajar Ilmu kedokteran masih mahal. \\n\\nDaripada subsidi mobil listrik, lebih baik subsidi biaya kuliah kedokteran.   \n",
       "19756                                                                                                                              Selain ramah lingkungan juga motor listrik gaperlu ganti ganti oli, biaya perawatan yang jauh relatif lebih murah #PakaiMolis #PLNEmobilizeYou https://t.co/VVGHQkFq4j   \n",
       "18182                                                                                                                              Kebijakan subsidi kendaraan listrik dijadwalkan mulai berlaku per hari ini 20 Maret 2023. Motor dan mobil listrik apa saja yang dapat subsidi? https://t.co/UgSjtKgJin   \n",
       "11966   @msaid_didu Dudu sdh ga sehat cara berpikir nya. Dgn kendaraan listrik otomatis pakaian bbm turun Dan subsidi jg turun. Dan subsidi pembelian hanya di berikan 1x saja saat beli. Subsidi bbm di berikan seumur hidup kendaraan selama masih beli bbm. Otak dipake du! Jgn benci aja di pelihara!   \n",
       "39919       Hai Electrizen, fakta menarik dari kendaraan listrik ini ternyata mampu menghemat biaya operasional hingga 75 persen loh dibandingkan dengan kendaraan konvensional.\\n\\nTahukah kamu, beralih ke motor dan mobil listrik punya keuntungan berlipat dari sisi ekonomi. https://t.co/tAsIMoYIXB   \n",
       "196    @KompasTV Subsidi motor listrik ini tidak tepat. Lebih berbau pertimbangan bisnis ketimbang upaya mengurangi polusi udara.\\nApakah infrastruktur dan sarana pendukung utk kendaraan listrik sudah ada dan memadai? Ingat, harus ada sarana pengisian listrik batrei motor listrik yg tersebar luas   \n",
       "5551                      Elektrifikasi kendaraan mampu menurunkan emisi namun perlu menyasar sektor transportasi publik, dan perlu memperhatikan dampak lingkungan dari pengerukkan sumber daya alam besar-besaran untuk menghasilkan bahan baku mobil listrik\\nhttps://t.co/Pyxpvprfqf oleh @bumibungah   \n",
       "10791                                                                                                                         Dengan pembangunan SPKLU ini merupakan upaya PLN dalam mendukung pengisian daya kendaraan listrik tersebar ke seluruh Indonesia. \\n#PLNEMobilizeYou https://t.co/jvM98s3vUz   \n",
       "\n",
       "                                                                                                                                                                                                                                                                                         text_cleaned  \n",
       "36019                                                                                                                                                                       Semoga ada lagi perusahaan lain yang mulai masuk di daur ulang maupun repurposing baterai lithium dari kendaraan listrik.  \n",
       "14762                 Jangan lupa mudahnya kepemilikan kendaraan (baik KR 2 maupun KR 4) dengan kredit juga menjadi pemicunya jika ditarik panjang ke belakang. Baru2 ini juga ditambah dengan munculnya kendaraan listrik dan \"dispesialkan\" dari ganjil genap serta subsidi kepemilikan KR listrik.  \n",
       "6457                                                                                                                                                                                 Belajar Ilmu kedokteran masih mahal. Daripada subsidi mobil listrik, lebih baik subsidi biaya kuliah kedokteran.  \n",
       "19756                                                                                                                                                                           Selain ramah lingkungan juga motor listrik tidak perlu ganti ganti oli, biaya perawatan yang jauh relatif lebih murah  \n",
       "18182                                                                                                                                                  Kebijakan subsidi kendaraan listrik dijadwalkan mulai berlaku per hari ini 20 Maret 2023. Motor dan mobil listrik apa saja yang dapat subsidi?  \n",
       "11966  Dudu sudah tidak sehat cara berpikir nya. Dgn kendaraan listrik otomatis pakaian bbm turun Dan subsidi juga turun. Dan subsidi pembelian hanya di berikan 1x saja saat beli. Subsidi bbm di berikan seumur hidup kendaraan selama masih beli bbm. Otak dipakai du! Jgn benci saja di pelihara!  \n",
       "39919                              Hai Electrizen, fakta menarik dari kendaraan listrik ini ternyata mampu menghemat biaya operasional hingga 75 persen loh dibandingkan dengan kendaraan konvensional. Tahukah kamu, beralih ke motor dan mobil listrik punya keuntungan berlipat dari sisi ekonomi.  \n",
       "196       Subsidi motor listrik ini tidak tepat. Lebih berbau pertimbangan bisnis ketimbang upaya mengurangi polusi udara. Apakah infrastruktur dan sarana pendukung untuk kendaraan listrik sudah ada dan memadai? Ingat, harus ada sarana pengisian listrik batrei motor listrik yang tersebar luas  \n",
       "5551                                                       Elektrifikasi kendaraan mampu menurunkan emisi namun perlu menyasar sektor transportasi publik, dan perlu memperhatikan dampak lingkungan dari pengerukkan sumber daya alam besar-besaran untuk menghasilkan bahan baku mobil listrik oleh  \n",
       "10791                                                                                                                                                                Dengan pembangunan SPKLU ini merupakan upaya PLN dalam mendukung pengisian daya kendaraan listrik tersebar ke seluruh Indonesia.  "
      ]
     },
     "execution_count": 43,
     "metadata": {},
     "output_type": "execute_result"
    }
   ],
   "source": [
    "df[['text','text_cleaned']].sample(10)"
   ]
  },
  {
   "cell_type": "code",
   "execution_count": 44,
   "metadata": {},
   "outputs": [],
   "source": [
    "# Save hasil preprocessing\n",
    "df.to_csv('data/data_preprocessed.csv', index=False)"
   ]
  }
 ],
 "metadata": {
  "kernelspec": {
   "display_name": "thesis",
   "language": "python",
   "name": "python3"
  },
  "language_info": {
   "codemirror_mode": {
    "name": "ipython",
    "version": 3
   },
   "file_extension": ".py",
   "mimetype": "text/x-python",
   "name": "python",
   "nbconvert_exporter": "python",
   "pygments_lexer": "ipython3",
   "version": "3.9.16"
  },
  "orig_nbformat": 4
 },
 "nbformat": 4,
 "nbformat_minor": 2
}
