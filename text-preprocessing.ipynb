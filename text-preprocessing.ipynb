{
 "cells": [
  {
   "cell_type": "code",
   "execution_count": 1,
   "metadata": {},
   "outputs": [],
   "source": [
    "import pandas as pd\n",
    "import numpy as np\n",
    "import preprocessor as p\n",
    "import re\n",
    "import string\n",
    "import itertools\n",
    "import requests\n",
    "\n",
    "import nltk\n",
    "#nltk.download()\n",
    "from nltk.tokenize import word_tokenize\n",
    "from Sastrawi.Stemmer.StemmerFactory import StemmerFactory\n",
    "from Sastrawi.StopWordRemover.StopWordRemoverFactory import StopWordRemoverFactory\n",
    "from deep_translator import GoogleTranslator\n",
    "\n",
    "from tqdm.notebook import tqdm\n",
    "tqdm.pandas()\n",
    "\n",
    "import warnings\n",
    "warnings.filterwarnings('ignore')\n",
    "\n",
    "pd.set_option('display.max_colwidth', None)"
   ]
  },
  {
   "cell_type": "code",
   "execution_count": 2,
   "metadata": {},
   "outputs": [
    {
     "data": {
      "text/plain": [
       "(158493, 5)"
      ]
     },
     "execution_count": 2,
     "metadata": {},
     "output_type": "execute_result"
    }
   ],
   "source": [
    "raw = pd.read_csv('data.csv')\n",
    "raw.shape"
   ]
  },
  {
   "cell_type": "code",
   "execution_count": 3,
   "metadata": {},
   "outputs": [
    {
     "data": {
      "text/html": [
       "<div>\n",
       "<style scoped>\n",
       "    .dataframe tbody tr th:only-of-type {\n",
       "        vertical-align: middle;\n",
       "    }\n",
       "\n",
       "    .dataframe tbody tr th {\n",
       "        vertical-align: top;\n",
       "    }\n",
       "\n",
       "    .dataframe thead th {\n",
       "        text-align: right;\n",
       "    }\n",
       "</style>\n",
       "<table border=\"1\" class=\"dataframe\">\n",
       "  <thead>\n",
       "    <tr style=\"text-align: right;\">\n",
       "      <th></th>\n",
       "      <th>created_at</th>\n",
       "      <th>author_id</th>\n",
       "      <th>username</th>\n",
       "      <th>text</th>\n",
       "      <th>reference_type</th>\n",
       "    </tr>\n",
       "  </thead>\n",
       "  <tbody>\n",
       "    <tr>\n",
       "      <th>103744</th>\n",
       "      <td>2021-07-20T01:32:21.000Z</td>\n",
       "      <td>99229819</td>\n",
       "      <td>galathxia_</td>\n",
       "      <td>RT @Puspen_PKI: ricky elson disuruh pulang dahlan iskan dari jepang buat mengabdi ke negara. dia mimpin proyek mobil listrik. \\n\\nmobil itu d…</td>\n",
       "      <td>['retweeted']</td>\n",
       "    </tr>\n",
       "    <tr>\n",
       "      <th>140376</th>\n",
       "      <td>2021-11-13T00:38:58.000Z</td>\n",
       "      <td>934208481812344832</td>\n",
       "      <td>zhaokebao</td>\n",
       "      <td>Oh bukan gokar tapi mobil listrik gue rasa</td>\n",
       "      <td>['replied_to']</td>\n",
       "    </tr>\n",
       "    <tr>\n",
       "      <th>81192</th>\n",
       "      <td>2021-09-15T09:13:58.000Z</td>\n",
       "      <td>2748535542</td>\n",
       "      <td>ryolandafit</td>\n",
       "      <td>RT @OfficialiNewsTV: Dia menyakini hal itu karena cadangan nikel Indonesia merupakan yang terbesar di dunia. CEN\\n\\nSelengkapnya https://t.co…</td>\n",
       "      <td>['retweeted']</td>\n",
       "    </tr>\n",
       "    <tr>\n",
       "      <th>25513</th>\n",
       "      <td>2021-02-01T09:34:19.000Z</td>\n",
       "      <td>79650903</td>\n",
       "      <td>aprilanyta</td>\n",
       "      <td>RT @ArsitektropiS: TANAH MINIMALIS, \\nRUMAH MAKSIMALIS check ✅\\n\\nJadi luas tanah CUMAN 100M2\\nTapii isinya selevel RUMAH SULTAN\\n\\n🛌🛌🛌🛌🛌 5 Kmr T…</td>\n",
       "      <td>['retweeted']</td>\n",
       "    </tr>\n",
       "    <tr>\n",
       "      <th>2446</th>\n",
       "      <td>2021-03-22T01:06:43.000Z</td>\n",
       "      <td>2728984603</td>\n",
       "      <td>DodiJusra</td>\n",
       "      <td>RT @KATADATAcoid: Pengamat menilai, rencana kenaikan pajak pembelian mobil listrik akan membuat kendaraan ini hanya menjadi angan-angan bag…</td>\n",
       "      <td>['retweeted']</td>\n",
       "    </tr>\n",
       "  </tbody>\n",
       "</table>\n",
       "</div>"
      ],
      "text/plain": [
       "                      created_at           author_id     username  \\\n",
       "103744  2021-07-20T01:32:21.000Z            99229819   galathxia_   \n",
       "140376  2021-11-13T00:38:58.000Z  934208481812344832    zhaokebao   \n",
       "81192   2021-09-15T09:13:58.000Z          2748535542  ryolandafit   \n",
       "25513   2021-02-01T09:34:19.000Z            79650903   aprilanyta   \n",
       "2446    2021-03-22T01:06:43.000Z          2728984603    DodiJusra   \n",
       "\n",
       "                                                                                                                                                      text  \\\n",
       "103744      RT @Puspen_PKI: ricky elson disuruh pulang dahlan iskan dari jepang buat mengabdi ke negara. dia mimpin proyek mobil listrik. \\n\\nmobil itu d…   \n",
       "140376                                                                                                          Oh bukan gokar tapi mobil listrik gue rasa   \n",
       "81192       RT @OfficialiNewsTV: Dia menyakini hal itu karena cadangan nikel Indonesia merupakan yang terbesar di dunia. CEN\\n\\nSelengkapnya https://t.co…   \n",
       "25513   RT @ArsitektropiS: TANAH MINIMALIS, \\nRUMAH MAKSIMALIS check ✅\\n\\nJadi luas tanah CUMAN 100M2\\nTapii isinya selevel RUMAH SULTAN\\n\\n🛌🛌🛌🛌🛌 5 Kmr T…   \n",
       "2446          RT @KATADATAcoid: Pengamat menilai, rencana kenaikan pajak pembelian mobil listrik akan membuat kendaraan ini hanya menjadi angan-angan bag…   \n",
       "\n",
       "        reference_type  \n",
       "103744   ['retweeted']  \n",
       "140376  ['replied_to']  \n",
       "81192    ['retweeted']  \n",
       "25513    ['retweeted']  \n",
       "2446     ['retweeted']  "
      ]
     },
     "execution_count": 3,
     "metadata": {},
     "output_type": "execute_result"
    }
   ],
   "source": [
    "raw.sample(5)"
   ]
  },
  {
   "cell_type": "code",
   "execution_count": 4,
   "metadata": {},
   "outputs": [
    {
     "name": "stdout",
     "output_type": "stream",
     "text": [
      "<class 'pandas.core.frame.DataFrame'>\n",
      "RangeIndex: 158493 entries, 0 to 158492\n",
      "Data columns (total 5 columns):\n",
      " #   Column          Non-Null Count   Dtype \n",
      "---  ------          --------------   ----- \n",
      " 0   created_at      158493 non-null  object\n",
      " 1   author_id       158493 non-null  int64 \n",
      " 2   username        158493 non-null  object\n",
      " 3   text            158493 non-null  object\n",
      " 4   reference_type  114462 non-null  object\n",
      "dtypes: int64(1), object(4)\n",
      "memory usage: 6.0+ MB\n"
     ]
    }
   ],
   "source": [
    "raw.info()"
   ]
  },
  {
   "attachments": {},
   "cell_type": "markdown",
   "metadata": {},
   "source": [
    "# 1. Data Preprocessing\n",
    "---"
   ]
  },
  {
   "attachments": {},
   "cell_type": "markdown",
   "metadata": {},
   "source": [
    "## 1.1 Filter Tweets\n",
    "\n",
    "Drop retweeted Tweets to diminish duplication"
   ]
  },
  {
   "cell_type": "code",
   "execution_count": 5,
   "metadata": {},
   "outputs": [
    {
     "data": {
      "text/plain": [
       "['retweeted']               93146\n",
       "['replied_to']              18263\n",
       "['quoted']                   2853\n",
       "['quoted', 'replied_to']      200\n",
       "Name: reference_type, dtype: int64"
      ]
     },
     "execution_count": 5,
     "metadata": {},
     "output_type": "execute_result"
    }
   ],
   "source": [
    "raw['reference_type'].value_counts()"
   ]
  },
  {
   "attachments": {},
   "cell_type": "markdown",
   "metadata": {},
   "source": [
    "We will drop 93146 retweeted Tweets"
   ]
  },
  {
   "cell_type": "code",
   "execution_count": 3,
   "metadata": {},
   "outputs": [],
   "source": [
    "df = raw[raw['reference_type'] != \"['retweeted']\"].reset_index(drop=True)"
   ]
  },
  {
   "cell_type": "code",
   "execution_count": 4,
   "metadata": {},
   "outputs": [
    {
     "data": {
      "text/plain": [
       "(65347, 5)"
      ]
     },
     "execution_count": 4,
     "metadata": {},
     "output_type": "execute_result"
    }
   ],
   "source": [
    "df.shape"
   ]
  },
  {
   "attachments": {},
   "cell_type": "markdown",
   "metadata": {},
   "source": [
    "## 1.2 Text Preprocessing"
   ]
  },
  {
   "cell_type": "code",
   "execution_count": 5,
   "metadata": {},
   "outputs": [],
   "source": [
    "def translating(text):\n",
    "    translated = GoogleTranslator(source='auto', target='id').translate(text)\n",
    "    return translated\n",
    "\n",
    "def remove_repetitive_characters(text): # Menghapus huruf-huruf yang repetitive (berulang)\n",
    "    return ''.join(''.join(s)[:1] for _, s in itertools.groupby(text))\n",
    "\n",
    "def cleaningText(text):\n",
    "    text = text.replace('\\n', ' ').replace('\\r', '') # replace new line into space\n",
    "    text = p.clean(text)\n",
    "    text = re.sub(r'(?<!\\s)\\.(?!\\s)', ' ', text) # remove dots\n",
    "    text = re.sub(r'(?<!\\s)\\,(?!\\s)', ' ', text) # remove commas\n",
    "    text = re.sub(r'[0-9]+', '', text) # remove numbers\n",
    "    text = re.sub(r'#\\w+','', text) # remove hash\n",
    "    text = re.sub(r' +', ' ', text) # remove white space\n",
    "    text = text.translate(str.maketrans('', '', string.punctuation)) # remove all punctuations\n",
    "    text = text.strip(' ') # remove characters space from both left and right text\n",
    "    text = text.replace('htps','')\n",
    "    return text\n",
    "\n",
    "def casefoldingText(text): # Converting all the characters in a text into lower case and split it to tokens\n",
    "    text = text.lower()\n",
    "    word_tokens = word_tokenize(text) \n",
    "    return word_tokens\n",
    "\n",
    "def filteringText(text): # Remove stopwords in a text\n",
    "    f = open(\"tala-stopwords-indonesia.txt\", \"r\")\n",
    "    stopword_list = []\n",
    "    for line in f:\n",
    "        stripped_line = line.strip()\n",
    "        line_list = stripped_line.split()\n",
    "        stopword_list.append(line_list[0])\n",
    "    f.close()\n",
    "\n",
    "    factory = StopWordRemoverFactory().get_stop_words()\n",
    "    stop_words = set(factory + stopword_list)\n",
    "    stop_words.discard('tidak')\n",
    "    filtered_text = [word for word in text if word not in stop_words]\n",
    "    return filtered_text\n",
    "\n",
    "def stemmingText(text): # Reducing a word to its word stem that affixes to suffixes and prefixes or to the roots of words\n",
    "    factory = StemmerFactory()\n",
    "    stemmer = factory.create_stemmer()\n",
    "    text = [stemmer.stem(word) for word in text]\n",
    "    return text"
   ]
  },
  {
   "cell_type": "code",
   "execution_count": 6,
   "metadata": {},
   "outputs": [],
   "source": [
    "# Normalisasi Kata\n",
    "url1 = (r'https://raw.githubusercontent.com/ksnugroho/klasifikasi-spam-sms/master/data/key_norm.csv')\n",
    "url2 = (r'https://raw.githubusercontent.com/nasalsabila/kamus-alay/master/colloquial-indonesian-lexicon.csv')\n",
    "url3 = (r'https://raw.githubusercontent.com/okkyibrohim/id-abusive-language-detection/master/kamusalay.csv')\n",
    "url4 = (r'https://raw.githubusercontent.com/louisowen6/NLP_bahasa_resources/master/combined_slang_words.txt')\n",
    "r = requests.get(url4)\n",
    "\n",
    "kamus_normalisasi = pd.read_csv(url1)\n",
    "kamus_alay1 = pd.read_csv(url2)\n",
    "kamus_alay2 = pd.read_csv(url3, names=['slang','formal'])\n",
    "kamus_slang = pd.json_normalize(r.json()).transpose().reset_index()\n",
    "kamus_slang.columns = ['slang','formal']\n",
    "\n",
    "def normalisasi(text):\n",
    "  text = [kamus_normalisasi[kamus_normalisasi['singkat'] == word]['hasil'].values[0] if (kamus_normalisasi['singkat'] == word).any() else word for word in text]\n",
    "  return text\n",
    "\n",
    "def normalisasi_slang(text):\n",
    "  text = [kamus_alay1[kamus_alay1['slang'] == word]['formal'].values[0] if (kamus_alay1['slang'] == word).any() else word for word in text]\n",
    "  text = [kamus_alay2[kamus_alay2['slang'] == word]['formal'].values[0] if (kamus_alay2['slang'] == word).any() else word for word in text]\n",
    "  text = [kamus_slang[kamus_slang['slang'] == word]['formal'].values[0] if (kamus_slang['slang'] == word).any() else word for word in text]\n",
    "  return text"
   ]
  },
  {
   "cell_type": "code",
   "execution_count": 7,
   "metadata": {},
   "outputs": [],
   "source": [
    "# Pipeline\n",
    "def preprocessing(text):\n",
    "  text = translating(text)\n",
    "  text = remove_repetitive_characters(text)\n",
    "  text = cleaningText(text)\n",
    "  text = casefoldingText(text)\n",
    "  text = normalisasi(text)\n",
    "  text = normalisasi_slang(text)\n",
    "  text = filteringText(text)\n",
    "  text = stemmingText(text)\n",
    "  return text"
   ]
  },
  {
   "cell_type": "code",
   "execution_count": 22,
   "metadata": {},
   "outputs": [
    {
     "data": {
      "application/vnd.jupyter.widget-view+json": {
       "model_id": "905f74fdd7d6476a92866a8524c96303",
       "version_major": 2,
       "version_minor": 0
      },
      "text/plain": [
       "  0%|          | 0/65347 [00:00<?, ?it/s]"
      ]
     },
     "metadata": {},
     "output_type": "display_data"
    }
   ],
   "source": [
    "# Start preprocessing\n",
    "df['tokenized'] = df['text'].progress_apply(preprocessing)"
   ]
  },
  {
   "cell_type": "code",
   "execution_count": 23,
   "metadata": {},
   "outputs": [],
   "source": [
    "# Save hasil preprocessing\n",
    "df.to_csv('data_preprocessed.csv')"
   ]
  },
  {
   "cell_type": "code",
   "execution_count": 9,
   "metadata": {},
   "outputs": [],
   "source": [
    "df_preprocessed = pd.read_csv('data_preprocessed.csv').iloc[: , 1:]"
   ]
  },
  {
   "cell_type": "code",
   "execution_count": 10,
   "metadata": {},
   "outputs": [
    {
     "data": {
      "text/html": [
       "<div>\n",
       "<style scoped>\n",
       "    .dataframe tbody tr th:only-of-type {\n",
       "        vertical-align: middle;\n",
       "    }\n",
       "\n",
       "    .dataframe tbody tr th {\n",
       "        vertical-align: top;\n",
       "    }\n",
       "\n",
       "    .dataframe thead th {\n",
       "        text-align: right;\n",
       "    }\n",
       "</style>\n",
       "<table border=\"1\" class=\"dataframe\">\n",
       "  <thead>\n",
       "    <tr style=\"text-align: right;\">\n",
       "      <th></th>\n",
       "      <th>created_at</th>\n",
       "      <th>author_id</th>\n",
       "      <th>username</th>\n",
       "      <th>text</th>\n",
       "      <th>reference_type</th>\n",
       "      <th>tokenized</th>\n",
       "    </tr>\n",
       "  </thead>\n",
       "  <tbody>\n",
       "    <tr>\n",
       "      <th>0</th>\n",
       "      <td>2021-03-30T23:44:33.000Z</td>\n",
       "      <td>118646322</td>\n",
       "      <td>Bisniscom</td>\n",
       "      <td>Kabar Emiten: ISAT Bakal Raih US$750 Juta, SLIS Terpantik Kendaraan Listrik https://t.co/3mPpB7zlE7</td>\n",
       "      <td>NaN</td>\n",
       "      <td>['kabar', 'emiten', 'isat', 'raih', 'us', 'juta', 'slis', 'pantik', 'kendara', 'listrik']</td>\n",
       "    </tr>\n",
       "    <tr>\n",
       "      <th>1</th>\n",
       "      <td>2021-03-30T23:22:28.000Z</td>\n",
       "      <td>1285016293</td>\n",
       "      <td>Pemuda_Depok</td>\n",
       "      <td>BMW Persiapkan Waktu Untuk Beralih ke Mobil Listrik https://t.co/gN2E4cs1QW</td>\n",
       "      <td>NaN</td>\n",
       "      <td>['bmw', 'siap', 'alih', 'mobillistrik']</td>\n",
       "    </tr>\n",
       "    <tr>\n",
       "      <th>2</th>\n",
       "      <td>2021-03-30T23:22:13.000Z</td>\n",
       "      <td>223119150</td>\n",
       "      <td>idaulat</td>\n",
       "      <td>BMW Persiapkan Waktu Untuk Beralih ke Mobil Listrik https://t.co/YlZjq5rMFw</td>\n",
       "      <td>NaN</td>\n",
       "      <td>['bmw', 'siap', 'alih', 'mobillistrik']</td>\n",
       "    </tr>\n",
       "    <tr>\n",
       "      <th>3</th>\n",
       "      <td>2021-03-30T23:22:11.000Z</td>\n",
       "      <td>58936699</td>\n",
       "      <td>Telegraf_ID</td>\n",
       "      <td>BMW Persiapkan Waktu Untuk Beralih ke Mobil Listrik https://t.co/5ZTmVcAAv8</td>\n",
       "      <td>NaN</td>\n",
       "      <td>['bmw', 'siap', 'alih', 'mobillistrik']</td>\n",
       "    </tr>\n",
       "    <tr>\n",
       "      <th>4</th>\n",
       "      <td>2021-03-30T23:01:16.000Z</td>\n",
       "      <td>151825438</td>\n",
       "      <td>zrjackspicer</td>\n",
       "      <td>Xiaomi produksi mobil listrik dengan investasi 10 miliar dolar - TEKNO YOGYA https://t.co/MdS9g6jmSN #Xiaomi #mobillistrik #ElectricVehicles</td>\n",
       "      <td>NaN</td>\n",
       "      <td>['xiaomi', 'produksi', 'mobil', 'listrik', 'investasi', 'miliar', 'dolar', 'tekno', 'yogya']</td>\n",
       "    </tr>\n",
       "  </tbody>\n",
       "</table>\n",
       "</div>"
      ],
      "text/plain": [
       "                 created_at   author_id      username  \\\n",
       "0  2021-03-30T23:44:33.000Z   118646322     Bisniscom   \n",
       "1  2021-03-30T23:22:28.000Z  1285016293  Pemuda_Depok   \n",
       "2  2021-03-30T23:22:13.000Z   223119150       idaulat   \n",
       "3  2021-03-30T23:22:11.000Z    58936699   Telegraf_ID   \n",
       "4  2021-03-30T23:01:16.000Z   151825438  zrjackspicer   \n",
       "\n",
       "                                                                                                                                           text  \\\n",
       "0                                           Kabar Emiten: ISAT Bakal Raih US$750 Juta, SLIS Terpantik Kendaraan Listrik https://t.co/3mPpB7zlE7   \n",
       "1                                                                   BMW Persiapkan Waktu Untuk Beralih ke Mobil Listrik https://t.co/gN2E4cs1QW   \n",
       "2                                                                   BMW Persiapkan Waktu Untuk Beralih ke Mobil Listrik https://t.co/YlZjq5rMFw   \n",
       "3                                                                   BMW Persiapkan Waktu Untuk Beralih ke Mobil Listrik https://t.co/5ZTmVcAAv8   \n",
       "4  Xiaomi produksi mobil listrik dengan investasi 10 miliar dolar - TEKNO YOGYA https://t.co/MdS9g6jmSN #Xiaomi #mobillistrik #ElectricVehicles   \n",
       "\n",
       "  reference_type  \\\n",
       "0            NaN   \n",
       "1            NaN   \n",
       "2            NaN   \n",
       "3            NaN   \n",
       "4            NaN   \n",
       "\n",
       "                                                                                      tokenized  \n",
       "0     ['kabar', 'emiten', 'isat', 'raih', 'us', 'juta', 'slis', 'pantik', 'kendara', 'listrik']  \n",
       "1                                                       ['bmw', 'siap', 'alih', 'mobillistrik']  \n",
       "2                                                       ['bmw', 'siap', 'alih', 'mobillistrik']  \n",
       "3                                                       ['bmw', 'siap', 'alih', 'mobillistrik']  \n",
       "4  ['xiaomi', 'produksi', 'mobil', 'listrik', 'investasi', 'miliar', 'dolar', 'tekno', 'yogya']  "
      ]
     },
     "execution_count": 10,
     "metadata": {},
     "output_type": "execute_result"
    }
   ],
   "source": [
    "df_preprocessed.head()"
   ]
  }
 ],
 "metadata": {
  "kernelspec": {
   "display_name": "thesis",
   "language": "python",
   "name": "python3"
  },
  "language_info": {
   "codemirror_mode": {
    "name": "ipython",
    "version": 3
   },
   "file_extension": ".py",
   "mimetype": "text/x-python",
   "name": "python",
   "nbconvert_exporter": "python",
   "pygments_lexer": "ipython3",
   "version": "3.9.16"
  },
  "orig_nbformat": 4
 },
 "nbformat": 4,
 "nbformat_minor": 2
}
