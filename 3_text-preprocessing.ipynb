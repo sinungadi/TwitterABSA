{
 "cells": [
  {
   "cell_type": "code",
   "execution_count": 2,
   "metadata": {},
   "outputs": [],
   "source": [
    "import pandas as pd\n",
    "import numpy as np\n",
    "import preprocessor as p\n",
    "import requests\n",
    "\n",
    "from tqdm.notebook import tqdm\n",
    "tqdm.pandas()\n",
    "\n",
    "import warnings\n",
    "warnings.filterwarnings('ignore')\n",
    "\n",
    "pd.set_option('display.max_colwidth', None)"
   ]
  },
  {
   "cell_type": "code",
   "execution_count": 3,
   "metadata": {},
   "outputs": [
    {
     "data": {
      "text/plain": [
       "(108525, 6)"
      ]
     },
     "execution_count": 3,
     "metadata": {},
     "output_type": "execute_result"
    }
   ],
   "source": [
    "raw = pd.read_csv('data/data.csv')\n",
    "raw.shape"
   ]
  },
  {
   "cell_type": "code",
   "execution_count": 4,
   "metadata": {},
   "outputs": [
    {
     "data": {
      "text/html": [
       "<div>\n",
       "<style scoped>\n",
       "    .dataframe tbody tr th:only-of-type {\n",
       "        vertical-align: middle;\n",
       "    }\n",
       "\n",
       "    .dataframe tbody tr th {\n",
       "        vertical-align: top;\n",
       "    }\n",
       "\n",
       "    .dataframe thead th {\n",
       "        text-align: right;\n",
       "    }\n",
       "</style>\n",
       "<table border=\"1\" class=\"dataframe\">\n",
       "  <thead>\n",
       "    <tr style=\"text-align: right;\">\n",
       "      <th></th>\n",
       "      <th>tweet_id</th>\n",
       "      <th>created_at</th>\n",
       "      <th>author_id</th>\n",
       "      <th>username</th>\n",
       "      <th>text</th>\n",
       "      <th>reference_type</th>\n",
       "    </tr>\n",
       "  </thead>\n",
       "  <tbody>\n",
       "    <tr>\n",
       "      <th>0</th>\n",
       "      <td>1620209968682254336</td>\n",
       "      <td>2023-01-30T23:58:53.000Z</td>\n",
       "      <td>185508421</td>\n",
       "      <td>rachmanfahadi</td>\n",
       "      <td>RT @NephiLaxmus: Saya\\n\\n- Pabrik motor listrik ini punya?\\n+ Saya\\n- Ojek online ini?\\n+ Saya\\n- Pembangkit listriknya?\\n+ Saya\\n- Pemasok batu ba…</td>\n",
       "      <td>['retweeted']</td>\n",
       "    </tr>\n",
       "    <tr>\n",
       "      <th>1</th>\n",
       "      <td>1620209586115604480</td>\n",
       "      <td>2023-01-30T23:57:22.000Z</td>\n",
       "      <td>458497906</td>\n",
       "      <td>66fathur</td>\n",
       "      <td>RT @NephiLaxmus: Saya\\n\\n- Pabrik motor listrik ini punya?\\n+ Saya\\n- Ojek online ini?\\n+ Saya\\n- Pembangkit listriknya?\\n+ Saya\\n- Pemasok batu ba…</td>\n",
       "      <td>['retweeted']</td>\n",
       "    </tr>\n",
       "    <tr>\n",
       "      <th>2</th>\n",
       "      <td>1620209295337078786</td>\n",
       "      <td>2023-01-30T23:56:12.000Z</td>\n",
       "      <td>954981728350695425</td>\n",
       "      <td>erusdhiana0118</td>\n",
       "      <td>RT @giginpraginanto: Dia yang memproduksi, dia juga yang kasih subsidi. Dia pasti makin kaya raya dan berkuasa kalau program 3 periode berj…</td>\n",
       "      <td>['retweeted']</td>\n",
       "    </tr>\n",
       "    <tr>\n",
       "      <th>3</th>\n",
       "      <td>1620209006261460993</td>\n",
       "      <td>2023-01-30T23:55:03.000Z</td>\n",
       "      <td>1148010397951094784</td>\n",
       "      <td>AloelAsheen</td>\n",
       "      <td>RT @giginpraginanto: Dia yang memproduksi, dia juga yang kasih subsidi. Dia pasti makin kaya raya dan berkuasa kalau program 3 periode berj…</td>\n",
       "      <td>['retweeted']</td>\n",
       "    </tr>\n",
       "    <tr>\n",
       "      <th>4</th>\n",
       "      <td>1620208586558435330</td>\n",
       "      <td>2023-01-30T23:53:23.000Z</td>\n",
       "      <td>1379546070783430661</td>\n",
       "      <td>DM_N4BYL</td>\n",
       "      <td>RT @Nailazaara__: Erick Thohir melihat perkembangan renovasi ruang klinik dlm pemenuhan pelayanan atas pentingnya kesehatan pegawai.\\n\"Ke de…</td>\n",
       "      <td>['retweeted']</td>\n",
       "    </tr>\n",
       "  </tbody>\n",
       "</table>\n",
       "</div>"
      ],
      "text/plain": [
       "              tweet_id                created_at            author_id  \\\n",
       "0  1620209968682254336  2023-01-30T23:58:53.000Z            185508421   \n",
       "1  1620209586115604480  2023-01-30T23:57:22.000Z            458497906   \n",
       "2  1620209295337078786  2023-01-30T23:56:12.000Z   954981728350695425   \n",
       "3  1620209006261460993  2023-01-30T23:55:03.000Z  1148010397951094784   \n",
       "4  1620208586558435330  2023-01-30T23:53:23.000Z  1379546070783430661   \n",
       "\n",
       "         username  \\\n",
       "0   rachmanfahadi   \n",
       "1        66fathur   \n",
       "2  erusdhiana0118   \n",
       "3     AloelAsheen   \n",
       "4        DM_N4BYL   \n",
       "\n",
       "                                                                                                                                                   text  \\\n",
       "0  RT @NephiLaxmus: Saya\\n\\n- Pabrik motor listrik ini punya?\\n+ Saya\\n- Ojek online ini?\\n+ Saya\\n- Pembangkit listriknya?\\n+ Saya\\n- Pemasok batu ba…   \n",
       "1  RT @NephiLaxmus: Saya\\n\\n- Pabrik motor listrik ini punya?\\n+ Saya\\n- Ojek online ini?\\n+ Saya\\n- Pembangkit listriknya?\\n+ Saya\\n- Pemasok batu ba…   \n",
       "2          RT @giginpraginanto: Dia yang memproduksi, dia juga yang kasih subsidi. Dia pasti makin kaya raya dan berkuasa kalau program 3 periode berj…   \n",
       "3          RT @giginpraginanto: Dia yang memproduksi, dia juga yang kasih subsidi. Dia pasti makin kaya raya dan berkuasa kalau program 3 periode berj…   \n",
       "4         RT @Nailazaara__: Erick Thohir melihat perkembangan renovasi ruang klinik dlm pemenuhan pelayanan atas pentingnya kesehatan pegawai.\\n\"Ke de…   \n",
       "\n",
       "  reference_type  \n",
       "0  ['retweeted']  \n",
       "1  ['retweeted']  \n",
       "2  ['retweeted']  \n",
       "3  ['retweeted']  \n",
       "4  ['retweeted']  "
      ]
     },
     "execution_count": 4,
     "metadata": {},
     "output_type": "execute_result"
    }
   ],
   "source": [
    "raw.head()"
   ]
  },
  {
   "cell_type": "code",
   "execution_count": 5,
   "metadata": {},
   "outputs": [
    {
     "name": "stdout",
     "output_type": "stream",
     "text": [
      "<class 'pandas.core.frame.DataFrame'>\n",
      "RangeIndex: 108525 entries, 0 to 108524\n",
      "Data columns (total 6 columns):\n",
      " #   Column          Non-Null Count   Dtype \n",
      "---  ------          --------------   ----- \n",
      " 0   tweet_id        108525 non-null  int64 \n",
      " 1   created_at      108525 non-null  object\n",
      " 2   author_id       108525 non-null  int64 \n",
      " 3   username        108525 non-null  object\n",
      " 4   text            108525 non-null  object\n",
      " 5   reference_type  83335 non-null   object\n",
      "dtypes: int64(2), object(4)\n",
      "memory usage: 5.0+ MB\n"
     ]
    }
   ],
   "source": [
    "raw.info()"
   ]
  },
  {
   "attachments": {},
   "cell_type": "markdown",
   "metadata": {},
   "source": [
    "# 1. Data Preprocessing\n",
    "---"
   ]
  },
  {
   "attachments": {},
   "cell_type": "markdown",
   "metadata": {},
   "source": [
    "## 1.1 Filter Tweets\n",
    "\n",
    "Drop retweeted Tweets to diminish duplication"
   ]
  },
  {
   "cell_type": "code",
   "execution_count": 6,
   "metadata": {},
   "outputs": [
    {
     "data": {
      "text/plain": [
       "['retweeted']               66528\n",
       "['replied_to']              14489\n",
       "['quoted']                   2230\n",
       "['quoted', 'replied_to']       88\n",
       "Name: reference_type, dtype: int64"
      ]
     },
     "execution_count": 6,
     "metadata": {},
     "output_type": "execute_result"
    }
   ],
   "source": [
    "raw['reference_type'].value_counts()"
   ]
  },
  {
   "attachments": {},
   "cell_type": "markdown",
   "metadata": {},
   "source": [
    "We will drop 66528 retweeted Tweets"
   ]
  },
  {
   "cell_type": "code",
   "execution_count": 15,
   "metadata": {},
   "outputs": [],
   "source": [
    "df = raw[raw['reference_type'] != \"['retweeted']\"].reset_index(drop=True)"
   ]
  },
  {
   "cell_type": "code",
   "execution_count": 16,
   "metadata": {},
   "outputs": [
    {
     "data": {
      "text/plain": [
       "(41997, 6)"
      ]
     },
     "execution_count": 16,
     "metadata": {},
     "output_type": "execute_result"
    }
   ],
   "source": [
    "df.shape"
   ]
  },
  {
   "attachments": {},
   "cell_type": "markdown",
   "metadata": {},
   "source": [
    "Drop duplicated tweets and keep the first occurance"
   ]
  },
  {
   "cell_type": "code",
   "execution_count": 18,
   "metadata": {},
   "outputs": [
    {
     "name": "stdout",
     "output_type": "stream",
     "text": [
      "Total duplicated tweets: 2348\n"
     ]
    }
   ],
   "source": [
    "duplicate = df[df.duplicated('text')]\n",
    "print('Total duplicated tweets:',duplicate.shape[0])"
   ]
  },
  {
   "cell_type": "code",
   "execution_count": 19,
   "metadata": {},
   "outputs": [],
   "source": [
    "df.drop_duplicates(subset=['text'], inplace=True)"
   ]
  },
  {
   "cell_type": "code",
   "execution_count": 20,
   "metadata": {},
   "outputs": [
    {
     "data": {
      "text/plain": [
       "(39649, 6)"
      ]
     },
     "execution_count": 20,
     "metadata": {},
     "output_type": "execute_result"
    }
   ],
   "source": [
    "df.shape"
   ]
  },
  {
   "attachments": {},
   "cell_type": "markdown",
   "metadata": {},
   "source": [
    "## 1.2 Text Preprocessing"
   ]
  },
  {
   "cell_type": "code",
   "execution_count": 21,
   "metadata": {},
   "outputs": [],
   "source": [
    "# Normalisasi Kata\n",
    "url1 = (r'https://raw.githubusercontent.com/ksnugroho/klasifikasi-spam-sms/master/data/key_norm.csv')\n",
    "url2 = (r'https://raw.githubusercontent.com/nasalsabila/kamus-alay/master/colloquial-indonesian-lexicon.csv')\n",
    "url3 = (r'https://raw.githubusercontent.com/okkyibrohim/id-abusive-language-detection/master/kamusalay.csv')\n",
    "url4 = (r'https://raw.githubusercontent.com/louisowen6/NLP_bahasa_resources/master/combined_slang_words.txt')\n",
    "r = requests.get(url4)\n",
    "\n",
    "kamus_normalisasi = pd.read_csv(url1)\n",
    "kamus_alay1 = pd.read_csv(url2)\n",
    "kamus_alay2 = pd.read_csv(url3, names=['slang','formal'])\n",
    "kamus_slang = pd.json_normalize(r.json()).transpose().reset_index()\n",
    "kamus_slang.columns = ['slang','formal']\n",
    "\n",
    "def normalisasi(text):\n",
    "  text = ' '.join([kamus_normalisasi[kamus_normalisasi['singkat'] == word]['hasil'].values[0] if (kamus_normalisasi['singkat'] == word).any() else word for word in text.split()])\n",
    "  text = ' '.join([kamus_alay1[kamus_alay1['slang'] == word]['formal'].values[0] if (kamus_alay1['slang'] == word).any() else word for word in text.split()])\n",
    "  text = ' '.join([kamus_alay2[kamus_alay2['slang'] == word]['formal'].values[0] if (kamus_alay2['slang'] == word).any() else word for word in text.split()])\n",
    "  text = ' '.join([kamus_slang[kamus_slang['slang'] == word]['formal'].values[0] if (kamus_slang['slang'] == word).any() else word for word in text.split()])\n",
    "  return text\n",
    "\n",
    "def normalisasi_slang(text):\n",
    "  text = ' '.join([kamus_alay1[kamus_alay1['slang'] == word]['formal'].values[0] if (kamus_alay1['slang'] == word).any() else word for word in text.split()])\n",
    "  text = ' '.join([kamus_alay2[kamus_alay2['slang'] == word]['formal'].values[0] if (kamus_alay2['slang'] == word).any() else word for word in text.split()])\n",
    "  text = ' '.join([kamus_slang[kamus_slang['slang'] == word]['formal'].values[0] if (kamus_slang['slang'] == word).any() else word for word in text.split()])\n",
    "  return text"
   ]
  },
  {
   "cell_type": "code",
   "execution_count": 22,
   "metadata": {},
   "outputs": [],
   "source": [
    "# Pipeline\n",
    "def preprocessing(text):\n",
    "  text = text.replace('\\n', ' ').replace('\\r', '') # replace new line into space\n",
    "  text = text.replace('&amp;', ' ')\n",
    "  p.set_options(p.OPT.URL, p.OPT.MENTION, p.OPT.HASHTAG, p.OPT.RESERVED)\n",
    "  text = p.clean(text)\n",
    "  text = normalisasi(text)\n",
    "  #text = normalisasi_slang(text)\n",
    "  return text"
   ]
  },
  {
   "cell_type": "code",
   "execution_count": 23,
   "metadata": {},
   "outputs": [
    {
     "data": {
      "application/vnd.jupyter.widget-view+json": {
       "model_id": "9640b5e25c134692bb43f2b52e665717",
       "version_major": 2,
       "version_minor": 0
      },
      "text/plain": [
       "  0%|          | 0/39649 [00:00<?, ?it/s]"
      ]
     },
     "metadata": {},
     "output_type": "display_data"
    }
   ],
   "source": [
    "# Start preprocessing\n",
    "df['text_cleaned'] = df['text'].progress_apply(preprocessing)"
   ]
  },
  {
   "cell_type": "code",
   "execution_count": 24,
   "metadata": {},
   "outputs": [
    {
     "data": {
      "text/html": [
       "<div>\n",
       "<style scoped>\n",
       "    .dataframe tbody tr th:only-of-type {\n",
       "        vertical-align: middle;\n",
       "    }\n",
       "\n",
       "    .dataframe tbody tr th {\n",
       "        vertical-align: top;\n",
       "    }\n",
       "\n",
       "    .dataframe thead th {\n",
       "        text-align: right;\n",
       "    }\n",
       "</style>\n",
       "<table border=\"1\" class=\"dataframe\">\n",
       "  <thead>\n",
       "    <tr style=\"text-align: right;\">\n",
       "      <th></th>\n",
       "      <th>text</th>\n",
       "      <th>text_cleaned</th>\n",
       "    </tr>\n",
       "  </thead>\n",
       "  <tbody>\n",
       "    <tr>\n",
       "      <th>29808</th>\n",
       "      <td>@Eno_Bening elon kesalip karna harga saham tesla turun kali, baca lagi ah no</td>\n",
       "      <td>elon kesalip karena harga saham tesla turun kali, baca lagi ah nomor</td>\n",
       "    </tr>\n",
       "    <tr>\n",
       "      <th>688</th>\n",
       "      <td>#MostPopuler Daftar Harga Motor Listrik dengan Subsidi Rp 7 Juta, Ada yang Rp 6 Jutaan! https://t.co/m0qmZ52reT</td>\n",
       "      <td>Daftar Harga Motor Listrik dengan Subsidi Rp 7 Juta, Ada yang Rp 6 Jutaan!</td>\n",
       "    </tr>\n",
       "    <tr>\n",
       "      <th>31741</th>\n",
       "      <td>PUPR siapkan SPKLU di 14 rest area tol bagi pemudik mobil listrik https://t.co/4leywnXsFg</td>\n",
       "      <td>PUPR siapkan SPKLU di 14 rest area tol bagi pemudik mobil listrik</td>\n",
       "    </tr>\n",
       "    <tr>\n",
       "      <th>27920</th>\n",
       "      <td>Apakah rezim ini sdh menjadikan rakyat ekonomi lemah sbg \"musuh yg harus dilenyapkan dimuka bumi\"?\\nSubsidi mobil+motor listrik bukti rezim melindungi kepentingan si kaya, cabut semua subsidi bukti upaya pemusnahan rakyat jelata https://t.co/Wx6Ka2RL1m</td>\n",
       "      <td>Apakah rezim ini sudah menjadikan rakyat ekonomi lemah sebagai \"musuh yang harus dilenyapkan dimuka bumi\"? Subsidi mobil+motor listrik bukti rezim melindungi kepentingan sih kaya, pergi semua subsidi bukti upaya pemusnahan rakyat jelata</td>\n",
       "    </tr>\n",
       "    <tr>\n",
       "      <th>7122</th>\n",
       "      <td>Untuk para capres 2024 ayo adu ide dan gagasan soal hak dasar masyarakat seperti air bersih, transportasi publik, dan layanan administrasi kependudukan yg excellent.\\n\\nGak usah dakik dakik kosong kaya mobil listrik padahal cuma nolong oligarki nikel https://t.co/tZf9nJF3qr</td>\n",
       "      <td>Untuk para capres 2024 ayo adu ide dan gagasan soal hak dasar masyarakat seperti air bersih, transportasi publik, dan layanan administrasi kependudukan yang excellent. Gak perlu dakik dakik kosong kayak mobil listrik padahal cuma menolong oligarki nikel</td>\n",
       "    </tr>\n",
       "    <tr>\n",
       "      <th>41304</th>\n",
       "      <td>@cimotyy aahh pngn bngt pnya mobil listrik ..yng pasti jdi hemat bensyinn kan yaak ,cakep pulaaa model nyaa #PakaiMolisYuk 😍</td>\n",
       "      <td>ah ingin banget punya mobil listrik ..yng pasti jadi hemat bensyinn kan iya ,cakep pulaaa model nya 😍</td>\n",
       "    </tr>\n",
       "    <tr>\n",
       "      <th>9855</th>\n",
       "      <td>Halo Electrizen!\\nPada gelaran Indonesia International Motor Show (IIMS) 2023 kali ini, PLN menghadirkan 12 motor listrik hasil konversi dari motor BBM loh. https://t.co/gVQ3zZ5egN</td>\n",
       "      <td>Halo Electrizen! Pada gelaran Indonesia International Motor Show (IIMS) 2023 kali ini, PLN menghadirkan 12 motor listrik hasil konversi dari motor BBM loh.</td>\n",
       "    </tr>\n",
       "    <tr>\n",
       "      <th>36819</th>\n",
       "      <td>@Tak_Ngerti_apa2 @Mdy_Asmara1701 🤣🤣 @aniesbaswedan loh yg bilang mobil listrik mengandung emisi lebih besar daripada bus berpenumpang.. 🤣</td>\n",
       "      <td>🤣🤣 loh yang bilang mobil listrik mengandung emisi lebih besar daripada bus berpenumpang.. 🤣</td>\n",
       "    </tr>\n",
       "    <tr>\n",
       "      <th>34255</th>\n",
       "      <td>Electrizen, PLN memastikan kesiapan SPKLU untuk memudahkan penguna kendaraan listrik selama masa mudik lebaran Hari Raya Idul Fitri 1444 Hijriah.  #PLN #SPKLUPLN #PakaiMolis #PLN #PowerBeyondGenerations #AyoPakaiEV #SPKLUPLNRamadan #PLNSiagaIdulFitri #PLNEMobilizeYou https://t.co/Cms84r1aIz</td>\n",
       "      <td>Electrizen, PLN memastikan kesiapan SPKLU untuk memudahkan pengguna kendaraan listrik selama masa mudik lebaran Hari Raya Idul Fitri 1444 Hijriah.</td>\n",
       "    </tr>\n",
       "    <tr>\n",
       "      <th>11091</th>\n",
       "      <td>Pengguna kendaraan listrik biasanya ngecas daya di rumah, nah SPKLU tuh biasanya khusus untuk perjalanan jauh. Jadi kayak pom bensin gitu, SPKLU PLN disiapkan di lokasi-lokasi yang memang menjadi jalur perjalanan jauh, kayak tol trans jawa atau trans sumatera\\n#PLNEMobilizeYou https://t.co/VjToBEq9CI</td>\n",
       "      <td>Pengguna kendaraan listrik biasanya ngecas daya di rumah, nah SPKLU tuh biasanya khusus untuk perjalanan jauh. Jadi seperti pom bensin gitu, SPKLU PLN disiapkan di lokasi-lokasi yang memang menjadi jalur perjalanan jauh, seperti tol trans jawa atau trans sumatera</td>\n",
       "    </tr>\n",
       "  </tbody>\n",
       "</table>\n",
       "</div>"
      ],
      "text/plain": [
       "                                                                                                                                                                                                                                                                                                                text  \\\n",
       "29808                                                                                                                                                                                                                                   @Eno_Bening elon kesalip karna harga saham tesla turun kali, baca lagi ah no   \n",
       "688                                                                                                                                                                                                  #MostPopuler Daftar Harga Motor Listrik dengan Subsidi Rp 7 Juta, Ada yang Rp 6 Jutaan! https://t.co/m0qmZ52reT   \n",
       "31741                                                                                                                                                                                                                      PUPR siapkan SPKLU di 14 rest area tol bagi pemudik mobil listrik https://t.co/4leywnXsFg   \n",
       "27920                                                   Apakah rezim ini sdh menjadikan rakyat ekonomi lemah sbg \"musuh yg harus dilenyapkan dimuka bumi\"?\\nSubsidi mobil+motor listrik bukti rezim melindungi kepentingan si kaya, cabut semua subsidi bukti upaya pemusnahan rakyat jelata https://t.co/Wx6Ka2RL1m   \n",
       "7122                              Untuk para capres 2024 ayo adu ide dan gagasan soal hak dasar masyarakat seperti air bersih, transportasi publik, dan layanan administrasi kependudukan yg excellent.\\n\\nGak usah dakik dakik kosong kaya mobil listrik padahal cuma nolong oligarki nikel https://t.co/tZf9nJF3qr   \n",
       "41304                                                                                                                                                                                   @cimotyy aahh pngn bngt pnya mobil listrik ..yng pasti jdi hemat bensyinn kan yaak ,cakep pulaaa model nyaa #PakaiMolisYuk 😍   \n",
       "9855                                                                                                                            Halo Electrizen!\\nPada gelaran Indonesia International Motor Show (IIMS) 2023 kali ini, PLN menghadirkan 12 motor listrik hasil konversi dari motor BBM loh. https://t.co/gVQ3zZ5egN   \n",
       "36819                                                                                                                                                                      @Tak_Ngerti_apa2 @Mdy_Asmara1701 🤣🤣 @aniesbaswedan loh yg bilang mobil listrik mengandung emisi lebih besar daripada bus berpenumpang.. 🤣   \n",
       "34255            Electrizen, PLN memastikan kesiapan SPKLU untuk memudahkan penguna kendaraan listrik selama masa mudik lebaran Hari Raya Idul Fitri 1444 Hijriah.  #PLN #SPKLUPLN #PakaiMolis #PLN #PowerBeyondGenerations #AyoPakaiEV #SPKLUPLNRamadan #PLNSiagaIdulFitri #PLNEMobilizeYou https://t.co/Cms84r1aIz   \n",
       "11091  Pengguna kendaraan listrik biasanya ngecas daya di rumah, nah SPKLU tuh biasanya khusus untuk perjalanan jauh. Jadi kayak pom bensin gitu, SPKLU PLN disiapkan di lokasi-lokasi yang memang menjadi jalur perjalanan jauh, kayak tol trans jawa atau trans sumatera\\n#PLNEMobilizeYou https://t.co/VjToBEq9CI   \n",
       "\n",
       "                                                                                                                                                                                                                                                                  text_cleaned  \n",
       "29808                                                                                                                                                                                                     elon kesalip karena harga saham tesla turun kali, baca lagi ah nomor  \n",
       "688                                                                                                                                                                                                 Daftar Harga Motor Listrik dengan Subsidi Rp 7 Juta, Ada yang Rp 6 Jutaan!  \n",
       "31741                                                                                                                                                                                                        PUPR siapkan SPKLU di 14 rest area tol bagi pemudik mobil listrik  \n",
       "27920                             Apakah rezim ini sudah menjadikan rakyat ekonomi lemah sebagai \"musuh yang harus dilenyapkan dimuka bumi\"? Subsidi mobil+motor listrik bukti rezim melindungi kepentingan sih kaya, pergi semua subsidi bukti upaya pemusnahan rakyat jelata  \n",
       "7122             Untuk para capres 2024 ayo adu ide dan gagasan soal hak dasar masyarakat seperti air bersih, transportasi publik, dan layanan administrasi kependudukan yang excellent. Gak perlu dakik dakik kosong kayak mobil listrik padahal cuma menolong oligarki nikel  \n",
       "41304                                                                                                                                                                    ah ingin banget punya mobil listrik ..yng pasti jadi hemat bensyinn kan iya ,cakep pulaaa model nya 😍  \n",
       "9855                                                                                                               Halo Electrizen! Pada gelaran Indonesia International Motor Show (IIMS) 2023 kali ini, PLN menghadirkan 12 motor listrik hasil konversi dari motor BBM loh.  \n",
       "36819                                                                                                                                                                              🤣🤣 loh yang bilang mobil listrik mengandung emisi lebih besar daripada bus berpenumpang.. 🤣  \n",
       "34255                                                                                                                       Electrizen, PLN memastikan kesiapan SPKLU untuk memudahkan pengguna kendaraan listrik selama masa mudik lebaran Hari Raya Idul Fitri 1444 Hijriah.  \n",
       "11091  Pengguna kendaraan listrik biasanya ngecas daya di rumah, nah SPKLU tuh biasanya khusus untuk perjalanan jauh. Jadi seperti pom bensin gitu, SPKLU PLN disiapkan di lokasi-lokasi yang memang menjadi jalur perjalanan jauh, seperti tol trans jawa atau trans sumatera  "
      ]
     },
     "execution_count": 24,
     "metadata": {},
     "output_type": "execute_result"
    }
   ],
   "source": [
    "df[['text','text_cleaned']].sample(10)"
   ]
  },
  {
   "attachments": {},
   "cell_type": "markdown",
   "metadata": {},
   "source": [
    "Remove the duplicated cleaned tweets again"
   ]
  },
  {
   "cell_type": "code",
   "execution_count": 29,
   "metadata": {},
   "outputs": [
    {
     "name": "stdout",
     "output_type": "stream",
     "text": [
      "Total duplicated tweets: 8538\n"
     ]
    }
   ],
   "source": [
    "duplicate2 = df[df.duplicated('text_cleaned')]\n",
    "print('Total duplicated tweets:',duplicate2.shape[0])"
   ]
  },
  {
   "cell_type": "code",
   "execution_count": 31,
   "metadata": {},
   "outputs": [],
   "source": [
    "df.drop_duplicates(subset=['text_cleaned'], inplace=True)"
   ]
  },
  {
   "cell_type": "code",
   "execution_count": 32,
   "metadata": {},
   "outputs": [
    {
     "data": {
      "text/plain": [
       "(31111, 7)"
      ]
     },
     "execution_count": 32,
     "metadata": {},
     "output_type": "execute_result"
    }
   ],
   "source": [
    "df.shape"
   ]
  },
  {
   "cell_type": "code",
   "execution_count": 33,
   "metadata": {},
   "outputs": [],
   "source": [
    "# Save the prepocessing result\n",
    "df.to_csv('data/data_preprocessed.csv', index=False)"
   ]
  }
 ],
 "metadata": {
  "kernelspec": {
   "display_name": "thesis",
   "language": "python",
   "name": "python3"
  },
  "language_info": {
   "codemirror_mode": {
    "name": "ipython",
    "version": 3
   },
   "file_extension": ".py",
   "mimetype": "text/x-python",
   "name": "python",
   "nbconvert_exporter": "python",
   "pygments_lexer": "ipython3",
   "version": "3.9.16"
  },
  "orig_nbformat": 4
 },
 "nbformat": 4,
 "nbformat_minor": 2
}
