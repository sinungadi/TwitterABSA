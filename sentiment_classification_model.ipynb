{
  "nbformat": 4,
  "nbformat_minor": 0,
  "metadata": {
    "colab": {
      "provenance": [],
      "machine_shape": "hm",
      "gpuType": "T4",
      "authorship_tag": "ABX9TyMHy3YdK8I/e8wz/Fa0BIK1",
      "include_colab_link": true
    },
    "kernelspec": {
      "name": "python3",
      "display_name": "Python 3"
    },
    "language_info": {
      "name": "python"
    },
    "accelerator": "GPU"
  },
  "cells": [
    {
      "cell_type": "markdown",
      "metadata": {
        "id": "view-in-github",
        "colab_type": "text"
      },
      "source": [
        "<a href=\"https://colab.research.google.com/github/sinungadi/TwitterABSA/blob/master/sentiment_classification_model.ipynb\" target=\"_parent\"><img src=\"https://colab.research.google.com/assets/colab-badge.svg\" alt=\"Open In Colab\"/></a>"
      ]
    },
    {
      "cell_type": "code",
      "source": [
        "!pip install transformers\n",
        "!pip install xformers\n",
        "!pip install numpyencoder"
      ],
      "metadata": {
        "id": "Pt4nWRh2O-L4"
      },
      "execution_count": null,
      "outputs": []
    },
    {
      "cell_type": "markdown",
      "source": [
        "# 1. Import Required Libraries"
      ],
      "metadata": {
        "id": "JCL-5LU8PWkX"
      }
    },
    {
      "cell_type": "code",
      "execution_count": 49,
      "metadata": {
        "id": "LTeVMh9WJhEd"
      },
      "outputs": [],
      "source": [
        "import pandas as pd\n",
        "import warnings\n",
        "import random\n",
        "import json\n",
        "from numpyencoder import NumpyEncoder\n",
        "from tqdm import tqdm\n",
        "\n",
        "import torch\n",
        "from transformers import AutoModelForSequenceClassification\n",
        "from transformers import TFAutoModelForSequenceClassification\n",
        "from transformers import AutoTokenizer, AutoConfig\n",
        "from transformers import pipeline\n",
        "import numpy as np\n",
        "from scipy.special import softmax\n",
        "\n",
        "warnings.filterwarnings('ignore')\n",
        "pd.set_option('display.max_colwidth', None)"
      ]
    },
    {
      "cell_type": "markdown",
      "source": [
        "# 2. Data Colection"
      ],
      "metadata": {
        "id": "qeex-UX_Q1jO"
      }
    },
    {
      "cell_type": "code",
      "source": [
        "data = pd.read_csv('data_filtered.csv')"
      ],
      "metadata": {
        "id": "MI9hhy3BQ3yl"
      },
      "execution_count": 4,
      "outputs": []
    },
    {
      "cell_type": "code",
      "source": [
        "docs = data['text_cleaned']"
      ],
      "metadata": {
        "id": "HnGP-bgPQ7lg"
      },
      "execution_count": 5,
      "outputs": []
    },
    {
      "cell_type": "markdown",
      "source": [
        "# 3. Create Functions"
      ],
      "metadata": {
        "id": "0QGmPygPRD8i"
      }
    },
    {
      "cell_type": "code",
      "source": [
        "def getModel(model_name):\n",
        "  model_name = f\"w11wo/indonesian-roberta-base-sentiment-classifier\"\n",
        "  tokenizer = AutoTokenizer.from_pretrained(model_name)\n",
        "  config = AutoConfig.from_pretrained(model_name)\n",
        "  model = AutoModelForSequenceClassification.from_pretrained(model_name)\n",
        "\n",
        "  return tokenizer, config, model\n",
        "\n",
        "def process(sequence, tokenizer, config, model):\n",
        "  encoded_input = tokenizer(sequence, return_tensors='pt')\n",
        "  output = model(**encoded_input)\n",
        "  scores = output[0][0].detach().numpy()\n",
        "  scores = softmax(scores)\n",
        "\n",
        "  # Print labels and scores\n",
        "  ranking = np.argsort(scores)\n",
        "  ranking = ranking[::-1]\n",
        "  result = {}\n",
        "  for i in range(scores.shape[0]):\n",
        "      l = config.id2label[ranking[i]]\n",
        "      s = scores[ranking[i]]\n",
        "      result[l] = s\n",
        "\n",
        "  return result\n",
        "\n",
        "def generateTemp():\n",
        "  return {\n",
        "      'id' : None,\n",
        "      'sequence': None,\n",
        "      'result': []\n",
        "  }"
      ],
      "metadata": {
        "id": "i6ZyumndZbc8"
      },
      "execution_count": 34,
      "outputs": []
    },
    {
      "cell_type": "code",
      "source": [
        "# Dict to parse the results into each label and class\n",
        "def parseResultList():\n",
        "  return {\n",
        "      'id' : None,\n",
        "      'sequence': None,\n",
        "      'sentiment' : None\n",
        "}\n",
        "\n",
        "# Get the True False class for each label\n",
        "def getSentiment(data):\n",
        "  return max(data['result'], key=data['result'].get)"
      ],
      "metadata": {
        "id": "8wHsnlx5hckb"
      },
      "execution_count": 82,
      "outputs": []
    },
    {
      "cell_type": "markdown",
      "source": [
        "# 3. Data Modeling"
      ],
      "metadata": {
        "id": "LRhl2pCYfb7I"
      }
    },
    {
      "cell_type": "code",
      "source": [
        "model_name = f\"w11wo/indonesian-roberta-base-sentiment-classifier\"\n",
        "tokenizer = AutoTokenizer.from_pretrained(model_name)\n",
        "config = AutoConfig.from_pretrained(model_name)\n",
        "model = AutoModelForSequenceClassification.from_pretrained(model_name)"
      ],
      "metadata": {
        "id": "PAbR7tVLVQV-"
      },
      "execution_count": 85,
      "outputs": []
    },
    {
      "cell_type": "code",
      "source": [
        "resultList = []\n",
        "\n",
        "for i, text in tqdm(enumerate(docs)):\n",
        "  temp = generateTemp()\n",
        "\n",
        "  temp.update({\n",
        "      'id' : data['tweet_id'][i],\n",
        "      'sequence' : text,\n",
        "      'result' : process(text,tokenizer,config,model)\n",
        "  })\n",
        "\n",
        "  resultList.append(temp)"
      ],
      "metadata": {
        "colab": {
          "base_uri": "https://localhost:8080/"
        },
        "id": "TzXQcYTXdWbE",
        "outputId": "a3de9d25-eae3-439d-e83d-f2de6ca44836"
      },
      "execution_count": null,
      "outputs": [
        {
          "output_type": "stream",
          "name": "stderr",
          "text": [
            "16436it [23:37, 11.39it/s]"
          ]
        }
      ]
    },
    {
      "cell_type": "code",
      "source": [
        "random.sample(resultList, 5)"
      ],
      "metadata": {
        "colab": {
          "base_uri": "https://localhost:8080/"
        },
        "id": "OxIA218Deuc9",
        "outputId": "8efc4ae6-ec0c-48da-9b45-1f6d9861025d"
      },
      "execution_count": 43,
      "outputs": [
        {
          "output_type": "execute_result",
          "data": {
            "text/plain": [
              "[{'id': 1620198759077662720,\n",
              "  'sequence': 'Bahlil siap kawal rencana investasi VW bangun industri baterai EV',\n",
              "  'result': {'neutral': 0.99863786,\n",
              "   'positive': 0.0010155096,\n",
              "   'negative': 0.00034661463}},\n",
              " {'id': 1620198166334406657,\n",
              "  'sequence': 'jika melihat rekam jejaknya,justru Anies telah mendukung percepatan kendaraan listrik saat dia menjabat Gubernur DKI Jakarta.Kala itu,dia telah menekan Peraturan Gubernur (Pergub)mengenai relaksasi Bea Balik Nama Kendaraan Bermotor (BBNKB) kendaraan listrik.Pergub No.3/2020',\n",
              "  'result': {'positive': 0.7415657,\n",
              "   'neutral': 0.24329808,\n",
              "   'negative': 0.015136156}},\n",
              " {'id': 1620194952830660609,\n",
              "  'sequence': 'Lumayan buat subsidi mobil listrik ratusan juta',\n",
              "  'result': {'positive': 0.7270449,\n",
              "   'neutral': 0.26321247,\n",
              "   'negative': 0.009742727}},\n",
              " {'id': 1620187780260446209,\n",
              "  'sequence': 'Dahlah nk chargenya lama tempat charge sikit. Aku pun rasa belum sampai lagi masa untuk pakai ev ramai2. Hybrid masih lagi practical.',\n",
              "  'result': {'positive': 0.9078571,\n",
              "   'negative': 0.08470325,\n",
              "   'neutral': 0.0074396115}},\n",
              " {'id': 1620187492300517377,\n",
              "  'sequence': 'Ia berharap adanya kemudahan untuk mendapatkan bantuan pemerintah tersebut khususnya bagi driver ojek online (ojol).',\n",
              "  'result': {'neutral': 0.99159276,\n",
              "   'positive': 0.0076408056,\n",
              "   'negative': 0.00076644955}},\n",
              " {'id': 1620183244540100616,\n",
              "  'sequence': 'Gilak rs anak ibuk edelwuis yang di soetta punya area charging mobil listrik dan gratis pula😭 cuma bayar parkir aja🤣',\n",
              "  'result': {'positive': 0.7909626,\n",
              "   'neutral': 0.19509874,\n",
              "   'negative': 0.01393876}},\n",
              " {'id': 1620182374159106064,\n",
              "  'sequence': 'Api.pastinya berasap.. Ada sesegera mungkin pastinya ada api ..🤣🤣🤣 yang gilanya ..emisi mobil listrik lebih gede perkapitanya dari Bus ..yang berbahan bakar minyak ..yang isinya lebih banyak ..🤣🤣🤣🤣',\n",
              "  'result': {'positive': 0.9692607,\n",
              "   'negative': 0.025354119,\n",
              "   'neutral': 0.0053852205}},\n",
              " {'id': 1620170674122944512,\n",
              "  'sequence': 'Hadeh tidak berkaca, pemerintah suka impor padahal banyak petani yang menderita. Urusin noh subsidi pupuk, jangan bahkan subsidi kendaraan listrik',\n",
              "  'result': {'negative': 0.9991571,\n",
              "   'neutral': 0.0006334384,\n",
              "   'positive': 0.0002095119}},\n",
              " {'id': 1620163113671864320,\n",
              "  'sequence': 'Nor did private EV subsidy. Padahal dirimu sering bilang bahwa biggest contributor polusi bukan di kendaraan... Eh tapinya. Yang diangkat awalnya terkait policy, bahkan ditimpali dengan car ownership.',\n",
              "  'result': {'negative': 0.99561656,\n",
              "   'positive': 0.0029267285,\n",
              "   'neutral': 0.001456733}},\n",
              " {'id': 1620156264646070272,\n",
              "  'sequence': 'Mengisi kendaraan listrik bisa dilakukan dirumah dengan home charging services loh gaes. Jangan ragu beli kendaraan listrik',\n",
              "  'result': {'neutral': 0.92993903,\n",
              "   'positive': 0.05682148,\n",
              "   'negative': 0.013239452}}]"
            ]
          },
          "metadata": {},
          "execution_count": 43
        }
      ]
    },
    {
      "cell_type": "code",
      "source": [
        "with open('SentClfResult_Indo-Roberta.json', 'w') as file:\n",
        "    json.dump(resultList, file, indent=4, sort_keys=False,\n",
        "              separators=(', ', ': '), ensure_ascii=False,\n",
        "              cls=NumpyEncoder)"
      ],
      "metadata": {
        "id": "9Y4SF4mVgMe9"
      },
      "execution_count": 50,
      "outputs": []
    },
    {
      "cell_type": "code",
      "source": [
        "resultData = []\n",
        "\n",
        "for tweet in resultList:\n",
        "  resultDict = parseResultList()\n",
        "\n",
        "  resultDict.update({\n",
        "      'id' : tweet['id'],\n",
        "      'sequence' : tweet['sequence'],\n",
        "      'sentiment' : getSentiment(tweet)\n",
        "  })\n",
        "\n",
        "  resultData.append(resultDict)"
      ],
      "metadata": {
        "id": "30QzmPA9jZ9d"
      },
      "execution_count": 83,
      "outputs": []
    },
    {
      "cell_type": "code",
      "source": [
        "df = pd.DataFrame(resultData)"
      ],
      "metadata": {
        "id": "L2JFsq_JhA5O"
      },
      "execution_count": 86,
      "outputs": []
    },
    {
      "cell_type": "code",
      "source": [
        "df.sample(5)"
      ],
      "metadata": {
        "colab": {
          "base_uri": "https://localhost:8080/",
          "height": 285
        },
        "id": "nj65jRRxhFVt",
        "outputId": "b7517a3d-5b54-4fe8-cc1b-a0f1b99929ab"
      },
      "execution_count": 89,
      "outputs": [
        {
          "output_type": "execute_result",
          "data": {
            "text/plain": [
              "                    id  \\\n",
              "8  1620163113671864320   \n",
              "9  1620156264646070272   \n",
              "6  1620182374159106064   \n",
              "5  1620183244540100616   \n",
              "4  1620187492300517377   \n",
              "\n",
              "                                                                                                                                                                                                   sequence  \\\n",
              "8  Nor did private EV subsidy. Padahal dirimu sering bilang bahwa biggest contributor polusi bukan di kendaraan... Eh tapinya. Yang diangkat awalnya terkait policy, bahkan ditimpali dengan car ownership.   \n",
              "9                                                                               Mengisi kendaraan listrik bisa dilakukan dirumah dengan home charging services loh gaes. Jangan ragu beli kendaraan listrik   \n",
              "6     Api.pastinya berasap.. Ada sesegera mungkin pastinya ada api ..🤣🤣🤣 yang gilanya ..emisi mobil listrik lebih gede perkapitanya dari Bus ..yang berbahan bakar minyak ..yang isinya lebih banyak ..🤣🤣🤣🤣   \n",
              "5                                                                                      Gilak rs anak ibuk edelwuis yang di soetta punya area charging mobil listrik dan gratis pula😭 cuma bayar parkir aja🤣   \n",
              "4                                                                                      Ia berharap adanya kemudahan untuk mendapatkan bantuan pemerintah tersebut khususnya bagi driver ojek online (ojol).   \n",
              "\n",
              "  sentiment  \n",
              "8  negative  \n",
              "9   neutral  \n",
              "6  positive  \n",
              "5  positive  \n",
              "4   neutral  "
            ],
            "text/html": [
              "\n",
              "\n",
              "  <div id=\"df-c069e983-2d07-4b16-bfe4-2b7714d41a59\">\n",
              "    <div class=\"colab-df-container\">\n",
              "      <div>\n",
              "<style scoped>\n",
              "    .dataframe tbody tr th:only-of-type {\n",
              "        vertical-align: middle;\n",
              "    }\n",
              "\n",
              "    .dataframe tbody tr th {\n",
              "        vertical-align: top;\n",
              "    }\n",
              "\n",
              "    .dataframe thead th {\n",
              "        text-align: right;\n",
              "    }\n",
              "</style>\n",
              "<table border=\"1\" class=\"dataframe\">\n",
              "  <thead>\n",
              "    <tr style=\"text-align: right;\">\n",
              "      <th></th>\n",
              "      <th>id</th>\n",
              "      <th>sequence</th>\n",
              "      <th>sentiment</th>\n",
              "    </tr>\n",
              "  </thead>\n",
              "  <tbody>\n",
              "    <tr>\n",
              "      <th>8</th>\n",
              "      <td>1620163113671864320</td>\n",
              "      <td>Nor did private EV subsidy. Padahal dirimu sering bilang bahwa biggest contributor polusi bukan di kendaraan... Eh tapinya. Yang diangkat awalnya terkait policy, bahkan ditimpali dengan car ownership.</td>\n",
              "      <td>negative</td>\n",
              "    </tr>\n",
              "    <tr>\n",
              "      <th>9</th>\n",
              "      <td>1620156264646070272</td>\n",
              "      <td>Mengisi kendaraan listrik bisa dilakukan dirumah dengan home charging services loh gaes. Jangan ragu beli kendaraan listrik</td>\n",
              "      <td>neutral</td>\n",
              "    </tr>\n",
              "    <tr>\n",
              "      <th>6</th>\n",
              "      <td>1620182374159106064</td>\n",
              "      <td>Api.pastinya berasap.. Ada sesegera mungkin pastinya ada api ..🤣🤣🤣 yang gilanya ..emisi mobil listrik lebih gede perkapitanya dari Bus ..yang berbahan bakar minyak ..yang isinya lebih banyak ..🤣🤣🤣🤣</td>\n",
              "      <td>positive</td>\n",
              "    </tr>\n",
              "    <tr>\n",
              "      <th>5</th>\n",
              "      <td>1620183244540100616</td>\n",
              "      <td>Gilak rs anak ibuk edelwuis yang di soetta punya area charging mobil listrik dan gratis pula😭 cuma bayar parkir aja🤣</td>\n",
              "      <td>positive</td>\n",
              "    </tr>\n",
              "    <tr>\n",
              "      <th>4</th>\n",
              "      <td>1620187492300517377</td>\n",
              "      <td>Ia berharap adanya kemudahan untuk mendapatkan bantuan pemerintah tersebut khususnya bagi driver ojek online (ojol).</td>\n",
              "      <td>neutral</td>\n",
              "    </tr>\n",
              "  </tbody>\n",
              "</table>\n",
              "</div>\n",
              "      <button class=\"colab-df-convert\" onclick=\"convertToInteractive('df-c069e983-2d07-4b16-bfe4-2b7714d41a59')\"\n",
              "              title=\"Convert this dataframe to an interactive table.\"\n",
              "              style=\"display:none;\">\n",
              "\n",
              "  <svg xmlns=\"http://www.w3.org/2000/svg\" height=\"24px\"viewBox=\"0 0 24 24\"\n",
              "       width=\"24px\">\n",
              "    <path d=\"M0 0h24v24H0V0z\" fill=\"none\"/>\n",
              "    <path d=\"M18.56 5.44l.94 2.06.94-2.06 2.06-.94-2.06-.94-.94-2.06-.94 2.06-2.06.94zm-11 1L8.5 8.5l.94-2.06 2.06-.94-2.06-.94L8.5 2.5l-.94 2.06-2.06.94zm10 10l.94 2.06.94-2.06 2.06-.94-2.06-.94-.94-2.06-.94 2.06-2.06.94z\"/><path d=\"M17.41 7.96l-1.37-1.37c-.4-.4-.92-.59-1.43-.59-.52 0-1.04.2-1.43.59L10.3 9.45l-7.72 7.72c-.78.78-.78 2.05 0 2.83L4 21.41c.39.39.9.59 1.41.59.51 0 1.02-.2 1.41-.59l7.78-7.78 2.81-2.81c.8-.78.8-2.07 0-2.86zM5.41 20L4 18.59l7.72-7.72 1.47 1.35L5.41 20z\"/>\n",
              "  </svg>\n",
              "      </button>\n",
              "\n",
              "\n",
              "\n",
              "    <div id=\"df-3089dadc-1d1c-49fa-aa04-cdddcd5b2f26\">\n",
              "      <button class=\"colab-df-quickchart\" onclick=\"quickchart('df-3089dadc-1d1c-49fa-aa04-cdddcd5b2f26')\"\n",
              "              title=\"Suggest charts.\"\n",
              "              style=\"display:none;\">\n",
              "\n",
              "<svg xmlns=\"http://www.w3.org/2000/svg\" height=\"24px\"viewBox=\"0 0 24 24\"\n",
              "     width=\"24px\">\n",
              "    <g>\n",
              "        <path d=\"M19 3H5c-1.1 0-2 .9-2 2v14c0 1.1.9 2 2 2h14c1.1 0 2-.9 2-2V5c0-1.1-.9-2-2-2zM9 17H7v-7h2v7zm4 0h-2V7h2v10zm4 0h-2v-4h2v4z\"/>\n",
              "    </g>\n",
              "</svg>\n",
              "      </button>\n",
              "    </div>\n",
              "\n",
              "<style>\n",
              "  .colab-df-quickchart {\n",
              "    background-color: #E8F0FE;\n",
              "    border: none;\n",
              "    border-radius: 50%;\n",
              "    cursor: pointer;\n",
              "    display: none;\n",
              "    fill: #1967D2;\n",
              "    height: 32px;\n",
              "    padding: 0 0 0 0;\n",
              "    width: 32px;\n",
              "  }\n",
              "\n",
              "  .colab-df-quickchart:hover {\n",
              "    background-color: #E2EBFA;\n",
              "    box-shadow: 0px 1px 2px rgba(60, 64, 67, 0.3), 0px 1px 3px 1px rgba(60, 64, 67, 0.15);\n",
              "    fill: #174EA6;\n",
              "  }\n",
              "\n",
              "  [theme=dark] .colab-df-quickchart {\n",
              "    background-color: #3B4455;\n",
              "    fill: #D2E3FC;\n",
              "  }\n",
              "\n",
              "  [theme=dark] .colab-df-quickchart:hover {\n",
              "    background-color: #434B5C;\n",
              "    box-shadow: 0px 1px 3px 1px rgba(0, 0, 0, 0.15);\n",
              "    filter: drop-shadow(0px 1px 2px rgba(0, 0, 0, 0.3));\n",
              "    fill: #FFFFFF;\n",
              "  }\n",
              "</style>\n",
              "\n",
              "    <script>\n",
              "      async function quickchart(key) {\n",
              "        const containerElement = document.querySelector('#' + key);\n",
              "        const charts = await google.colab.kernel.invokeFunction(\n",
              "            'suggestCharts', [key], {});\n",
              "      }\n",
              "    </script>\n",
              "\n",
              "      <script>\n",
              "\n",
              "function displayQuickchartButton(domScope) {\n",
              "  let quickchartButtonEl =\n",
              "    domScope.querySelector('#df-3089dadc-1d1c-49fa-aa04-cdddcd5b2f26 button.colab-df-quickchart');\n",
              "  quickchartButtonEl.style.display =\n",
              "    google.colab.kernel.accessAllowed ? 'block' : 'none';\n",
              "}\n",
              "\n",
              "        displayQuickchartButton(document);\n",
              "      </script>\n",
              "      <style>\n",
              "    .colab-df-container {\n",
              "      display:flex;\n",
              "      flex-wrap:wrap;\n",
              "      gap: 12px;\n",
              "    }\n",
              "\n",
              "    .colab-df-convert {\n",
              "      background-color: #E8F0FE;\n",
              "      border: none;\n",
              "      border-radius: 50%;\n",
              "      cursor: pointer;\n",
              "      display: none;\n",
              "      fill: #1967D2;\n",
              "      height: 32px;\n",
              "      padding: 0 0 0 0;\n",
              "      width: 32px;\n",
              "    }\n",
              "\n",
              "    .colab-df-convert:hover {\n",
              "      background-color: #E2EBFA;\n",
              "      box-shadow: 0px 1px 2px rgba(60, 64, 67, 0.3), 0px 1px 3px 1px rgba(60, 64, 67, 0.15);\n",
              "      fill: #174EA6;\n",
              "    }\n",
              "\n",
              "    [theme=dark] .colab-df-convert {\n",
              "      background-color: #3B4455;\n",
              "      fill: #D2E3FC;\n",
              "    }\n",
              "\n",
              "    [theme=dark] .colab-df-convert:hover {\n",
              "      background-color: #434B5C;\n",
              "      box-shadow: 0px 1px 3px 1px rgba(0, 0, 0, 0.15);\n",
              "      filter: drop-shadow(0px 1px 2px rgba(0, 0, 0, 0.3));\n",
              "      fill: #FFFFFF;\n",
              "    }\n",
              "  </style>\n",
              "\n",
              "      <script>\n",
              "        const buttonEl =\n",
              "          document.querySelector('#df-c069e983-2d07-4b16-bfe4-2b7714d41a59 button.colab-df-convert');\n",
              "        buttonEl.style.display =\n",
              "          google.colab.kernel.accessAllowed ? 'block' : 'none';\n",
              "\n",
              "        async function convertToInteractive(key) {\n",
              "          const element = document.querySelector('#df-c069e983-2d07-4b16-bfe4-2b7714d41a59');\n",
              "          const dataTable =\n",
              "            await google.colab.kernel.invokeFunction('convertToInteractive',\n",
              "                                                     [key], {});\n",
              "          if (!dataTable) return;\n",
              "\n",
              "          const docLinkHtml = 'Like what you see? Visit the ' +\n",
              "            '<a target=\"_blank\" href=https://colab.research.google.com/notebooks/data_table.ipynb>data table notebook</a>'\n",
              "            + ' to learn more about interactive tables.';\n",
              "          element.innerHTML = '';\n",
              "          dataTable['output_type'] = 'display_data';\n",
              "          await google.colab.output.renderOutput(dataTable, element);\n",
              "          const docLink = document.createElement('div');\n",
              "          docLink.innerHTML = docLinkHtml;\n",
              "          element.appendChild(docLink);\n",
              "        }\n",
              "      </script>\n",
              "    </div>\n",
              "  </div>\n"
            ]
          },
          "metadata": {},
          "execution_count": 89
        }
      ]
    },
    {
      "cell_type": "code",
      "source": [
        "df.to_csv('SentClfResult_Indo-Roberta.csv', index=False)"
      ],
      "metadata": {
        "id": "3QTBBVvzhHJ6"
      },
      "execution_count": null,
      "outputs": []
    }
  ]
}