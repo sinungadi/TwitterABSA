{
 "cells": [
  {
   "attachments": {},
   "cell_type": "markdown",
   "metadata": {},
   "source": [
    "# 1. Import Libraries Needed\n",
    "---"
   ]
  },
  {
   "cell_type": "code",
   "execution_count": 5,
   "metadata": {},
   "outputs": [],
   "source": [
    "import pandas as pd\n",
    "import numpy as np\n",
    "\n",
    "from bertopic import BERTopic\n",
    "from sentence_transformers import SentenceTransformer\n",
    "\n",
    "import plotly.express as px\n",
    "\n",
    "import warnings\n",
    "warnings.filterwarnings('ignore')\n",
    "#pd.set_option('display.max_colwidth', None)\n",
    "%matplotlib inline"
   ]
  },
  {
   "attachments": {},
   "cell_type": "markdown",
   "metadata": {},
   "source": [
    "# 2. Load the Dataset\n",
    "---"
   ]
  },
  {
   "cell_type": "code",
   "execution_count": 2,
   "metadata": {},
   "outputs": [],
   "source": [
    "df = pd.read_csv('data/data_filtered.csv')"
   ]
  },
  {
   "cell_type": "code",
   "execution_count": 3,
   "metadata": {},
   "outputs": [
    {
     "data": {
      "text/html": [
       "<div>\n",
       "<style scoped>\n",
       "    .dataframe tbody tr th:only-of-type {\n",
       "        vertical-align: middle;\n",
       "    }\n",
       "\n",
       "    .dataframe tbody tr th {\n",
       "        vertical-align: top;\n",
       "    }\n",
       "\n",
       "    .dataframe thead th {\n",
       "        text-align: right;\n",
       "    }\n",
       "</style>\n",
       "<table border=\"1\" class=\"dataframe\">\n",
       "  <thead>\n",
       "    <tr style=\"text-align: right;\">\n",
       "      <th></th>\n",
       "      <th>tweet_id</th>\n",
       "      <th>created_at</th>\n",
       "      <th>author_id</th>\n",
       "      <th>username</th>\n",
       "      <th>text</th>\n",
       "      <th>reference_type</th>\n",
       "      <th>text_cleaned</th>\n",
       "      <th>tokenized</th>\n",
       "      <th>tweet_word_count</th>\n",
       "    </tr>\n",
       "  </thead>\n",
       "  <tbody>\n",
       "    <tr>\n",
       "      <th>0</th>\n",
       "      <td>1620198759077662720</td>\n",
       "      <td>30-01-2023</td>\n",
       "      <td>1606323413597163520</td>\n",
       "      <td>malikah65367056</td>\n",
       "      <td>DALANG PENGHANCUR REPUBLIK INI.       Luhut Di...</td>\n",
       "      <td>['original']</td>\n",
       "      <td>DALANG PENGHANCUR REPUBLIK INI. Luhut Disinggu...</td>\n",
       "      <td>['DALANG', 'PENGHANCUR', 'REPUBLIK', 'INI', '....</td>\n",
       "      <td>27</td>\n",
       "    </tr>\n",
       "    <tr>\n",
       "      <th>1</th>\n",
       "      <td>1620198166334406657</td>\n",
       "      <td>30-01-2023</td>\n",
       "      <td>1604779385747226624</td>\n",
       "      <td>lutficoyyy</td>\n",
       "      <td>@fadlizon Aljazair tidak se-kaya Indonesia. In...</td>\n",
       "      <td>['replied_to']</td>\n",
       "      <td>Aljazair tidak se-kaya Indonesia. Indonesia sa...</td>\n",
       "      <td>['Aljazair', 'tidak', 'se-kaya', 'Indonesia', ...</td>\n",
       "      <td>43</td>\n",
       "    </tr>\n",
       "    <tr>\n",
       "      <th>2</th>\n",
       "      <td>1620194952830660609</td>\n",
       "      <td>30-01-2023</td>\n",
       "      <td>1603708091266396162</td>\n",
       "      <td>aly_benzema</td>\n",
       "      <td>Luhut Disinggung soal Subsidi Motor Listrik: D...</td>\n",
       "      <td>['original']</td>\n",
       "      <td>Luhut Disinggung soal Subsidi Motor Listrik: D...</td>\n",
       "      <td>['Luhut', 'Disinggung', 'soal', 'Subsidi', 'Mo...</td>\n",
       "      <td>20</td>\n",
       "    </tr>\n",
       "    <tr>\n",
       "      <th>3</th>\n",
       "      <td>1620187780260446209</td>\n",
       "      <td>30-01-2023</td>\n",
       "      <td>1313106932819869697</td>\n",
       "      <td>KoncoPertiwi</td>\n",
       "      <td>Kastalim, asal Kebumen, pemenang hadiah utama ...</td>\n",
       "      <td>['replied_to']</td>\n",
       "      <td>Kastalim, asal Kebumen, pemenang hadiah utama ...</td>\n",
       "      <td>['Kastalim', ',', 'asal', 'Kebumen', ',', 'pem...</td>\n",
       "      <td>19</td>\n",
       "    </tr>\n",
       "    <tr>\n",
       "      <th>4</th>\n",
       "      <td>1620187492300517377</td>\n",
       "      <td>30-01-2023</td>\n",
       "      <td>43922847</td>\n",
       "      <td>ridwanhr</td>\n",
       "      <td>Tesla baru belum seminggu setirnya tiba tiba c...</td>\n",
       "      <td>['quoted']</td>\n",
       "      <td>Tesla baru belum seminggu setirnya tiba tiba l...</td>\n",
       "      <td>['Tesla', 'baru', 'belum', 'seminggu', 'setirn...</td>\n",
       "      <td>18</td>\n",
       "    </tr>\n",
       "  </tbody>\n",
       "</table>\n",
       "</div>"
      ],
      "text/plain": [
       "              tweet_id  created_at            author_id         username  \\\n",
       "0  1620198759077662720  30-01-2023  1606323413597163520  malikah65367056   \n",
       "1  1620198166334406657  30-01-2023  1604779385747226624       lutficoyyy   \n",
       "2  1620194952830660609  30-01-2023  1603708091266396162      aly_benzema   \n",
       "3  1620187780260446209  30-01-2023  1313106932819869697     KoncoPertiwi   \n",
       "4  1620187492300517377  30-01-2023             43922847         ridwanhr   \n",
       "\n",
       "                                                text  reference_type  \\\n",
       "0  DALANG PENGHANCUR REPUBLIK INI.       Luhut Di...    ['original']   \n",
       "1  @fadlizon Aljazair tidak se-kaya Indonesia. In...  ['replied_to']   \n",
       "2  Luhut Disinggung soal Subsidi Motor Listrik: D...    ['original']   \n",
       "3  Kastalim, asal Kebumen, pemenang hadiah utama ...  ['replied_to']   \n",
       "4  Tesla baru belum seminggu setirnya tiba tiba c...      ['quoted']   \n",
       "\n",
       "                                        text_cleaned  \\\n",
       "0  DALANG PENGHANCUR REPUBLIK INI. Luhut Disinggu...   \n",
       "1  Aljazair tidak se-kaya Indonesia. Indonesia sa...   \n",
       "2  Luhut Disinggung soal Subsidi Motor Listrik: D...   \n",
       "3  Kastalim, asal Kebumen, pemenang hadiah utama ...   \n",
       "4  Tesla baru belum seminggu setirnya tiba tiba l...   \n",
       "\n",
       "                                           tokenized  tweet_word_count  \n",
       "0  ['DALANG', 'PENGHANCUR', 'REPUBLIK', 'INI', '....                27  \n",
       "1  ['Aljazair', 'tidak', 'se-kaya', 'Indonesia', ...                43  \n",
       "2  ['Luhut', 'Disinggung', 'soal', 'Subsidi', 'Mo...                20  \n",
       "3  ['Kastalim', ',', 'asal', 'Kebumen', ',', 'pem...                19  \n",
       "4  ['Tesla', 'baru', 'belum', 'seminggu', 'setirn...                18  "
      ]
     },
     "execution_count": 3,
     "metadata": {},
     "output_type": "execute_result"
    }
   ],
   "source": [
    "df.head()"
   ]
  },
  {
   "cell_type": "code",
   "execution_count": 4,
   "metadata": {},
   "outputs": [
    {
     "data": {
      "text/plain": [
       "(34835, 9)"
      ]
     },
     "execution_count": 4,
     "metadata": {},
     "output_type": "execute_result"
    }
   ],
   "source": [
    "df.shape"
   ]
  },
  {
   "attachments": {},
   "cell_type": "markdown",
   "metadata": {},
   "source": [
    "# 3. BERTopic\n",
    "---"
   ]
  },
  {
   "cell_type": "code",
   "execution_count": null,
   "metadata": {},
   "outputs": [],
   "source": [
    "sentence_model = SentenceTransformer(\"paraphrase-multilingual-MiniLM-L12-v2\")\n",
    "topic_model = BERTopic(embedding_model=sentence_model)"
   ]
  }
 ],
 "metadata": {
  "kernelspec": {
   "display_name": "thesis",
   "language": "python",
   "name": "python3"
  },
  "language_info": {
   "codemirror_mode": {
    "name": "ipython",
    "version": 3
   },
   "file_extension": ".py",
   "mimetype": "text/x-python",
   "name": "python",
   "nbconvert_exporter": "python",
   "pygments_lexer": "ipython3",
   "version": "3.9.16"
  },
  "orig_nbformat": 4
 },
 "nbformat": 4,
 "nbformat_minor": 2
}
